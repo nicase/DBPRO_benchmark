{
 "cells": [
  {
   "cell_type": "code",
   "execution_count": 4,
   "metadata": {},
   "outputs": [
    {
     "data": {
      "text/html": [
       "<details>\n",
       "<summary>Click to view session information</summary>\n",
       "<pre>\n",
       "-----\n",
       "elastic_transport   8.11.0\n",
       "elasticsearch       8.11.1\n",
       "session_info        1.0.0\n",
       "-----\n",
       "</pre>\n",
       "<details>\n",
       "<summary>Click to view modules imported as dependencies</summary>\n",
       "<pre>\n",
       "aiohttp             3.8.5\n",
       "aiosignal           1.3.1\n",
       "appnope             0.1.3\n",
       "asttokens           NA\n",
       "async_timeout       4.0.3\n",
       "attr                23.1.0\n",
       "certifi             2023.07.22\n",
       "charset_normalizer  3.3.0\n",
       "comm                0.2.0\n",
       "cython_runtime      NA\n",
       "dateutil            2.8.2\n",
       "debugpy             1.8.0\n",
       "decorator           5.1.1\n",
       "exceptiongroup      1.1.3\n",
       "executing           2.0.1\n",
       "frozenlist          1.4.0\n",
       "idna                3.4\n",
       "importlib_metadata  NA\n",
       "ipykernel           6.26.0\n",
       "jedi                0.19.1\n",
       "multidict           6.0.4\n",
       "packaging           23.2\n",
       "parso               0.8.3\n",
       "pexpect             4.8.0\n",
       "platformdirs        4.0.0\n",
       "prompt_toolkit      3.0.41\n",
       "psutil              5.9.6\n",
       "ptyprocess          0.7.0\n",
       "pure_eval           0.2.2\n",
       "pydev_ipython       NA\n",
       "pydevconsole        NA\n",
       "pydevd              2.9.5\n",
       "pydevd_file_utils   NA\n",
       "pydevd_plugins      NA\n",
       "pydevd_tracing      NA\n",
       "pyexpat             NA\n",
       "pygments            2.16.1\n",
       "requests            2.31.0\n",
       "simplejson          3.19.2\n",
       "six                 1.15.0\n",
       "stack_data          0.6.3\n",
       "tornado             6.3.3\n",
       "traitlets           5.13.0\n",
       "typing_extensions   NA\n",
       "urllib3             1.26.17\n",
       "wcwidth             0.2.10\n",
       "yarl                1.9.2\n",
       "zipp                NA\n",
       "zmq                 25.1.1\n",
       "</pre>\n",
       "</details> <!-- seems like this ends pre, so might as well be explicit -->\n",
       "<pre>\n",
       "-----\n",
       "IPython             8.17.2\n",
       "jupyter_client      8.6.0\n",
       "jupyter_core        5.5.0\n",
       "-----\n",
       "Python 3.9.6 (default, Aug 11 2023, 19:44:49) [Clang 15.0.0 (clang-1500.0.40.1)]\n",
       "macOS-13.5-arm64-arm-64bit\n",
       "-----\n",
       "Session information updated at 2024-01-13 17:33\n",
       "</pre>\n",
       "</details>"
      ],
      "text/plain": [
       "<IPython.core.display.HTML object>"
      ]
     },
     "execution_count": 4,
     "metadata": {},
     "output_type": "execute_result"
    }
   ],
   "source": [
    "# !pip3 install session-info\n",
    "import session_info\n",
    "session_info.show()"
   ]
  },
  {
   "cell_type": "code",
   "execution_count": 2,
   "metadata": {},
   "outputs": [
    {
     "name": "stdout",
     "output_type": "stream",
     "text": [
      "{'name': '7b7dd53b6939', 'cluster_name': 'docker-cluster', 'cluster_uuid': 'jhqof8QUSzean9uVbU7ePw', 'version': {'number': '8.11.4', 'build_flavor': 'default', 'build_type': 'docker', 'build_hash': 'da06c53fd49b7e676ccf8a32d6655c5155c16d81', 'build_date': '2024-01-08T10:05:08.438562403Z', 'build_snapshot': False, 'lucene_version': '9.8.0', 'minimum_wire_compatibility_version': '7.17.0', 'minimum_index_compatibility_version': '7.0.0'}, 'tagline': 'You Know, for Search'}\n"
     ]
    }
   ],
   "source": [
    "from elasticsearch import Elasticsearch\n",
    "\n",
    "ELASTIC_PASSWORD = \"\" # (hidden)\n",
    "\n",
    "# Create the client instance\n",
    "client = Elasticsearch(\n",
    "    \"https://localhost:9200\",\n",
    "    ca_certs=\"/Users/nicolascamerlynck/http_ca.crt\",\n",
    "    basic_auth=(\"elastic\", ELASTIC_PASSWORD)\n",
    ")\n",
    "\n",
    "# Successful response!\n",
    "print(client.info())\n"
   ]
  },
  {
   "cell_type": "code",
   "execution_count": null,
   "metadata": {},
   "outputs": [],
   "source": []
  }
 ],
 "metadata": {
  "kernelspec": {
   "display_name": "Python 3",
   "language": "python",
   "name": "python3"
  },
  "language_info": {
   "codemirror_mode": {
    "name": "ipython",
    "version": 3
   },
   "file_extension": ".py",
   "mimetype": "text/x-python",
   "name": "python",
   "nbconvert_exporter": "python",
   "pygments_lexer": "ipython3",
   "version": "3.9.6"
  }
 },
 "nbformat": 4,
 "nbformat_minor": 2
}
