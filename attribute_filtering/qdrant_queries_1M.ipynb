{
 "cells": [
  {
   "cell_type": "markdown",
   "metadata": {},
   "source": [
    "Connect client\n"
   ]
  },
  {
   "cell_type": "code",
   "execution_count": 29,
   "metadata": {},
   "outputs": [
    {
     "data": {
      "text/html": [
       "<details>\n",
       "<summary>Click to view session information</summary>\n",
       "<pre>\n",
       "-----\n",
       "fastembed           NA\n",
       "numpy               1.26.0\n",
       "pandas              2.1.3\n",
       "qdrant_client       NA\n",
       "session_info        1.0.0\n",
       "utils               NA\n",
       "-----\n",
       "</pre>\n",
       "<details>\n",
       "<summary>Click to view modules imported as dependencies</summary>\n",
       "<pre>\n",
       "annotated_types     0.5.0\n",
       "anyio               NA\n",
       "appnope             0.1.3\n",
       "asttokens           NA\n",
       "certifi             2023.07.22\n",
       "charset_normalizer  3.3.0\n",
       "click               8.1.7\n",
       "comm                0.2.0\n",
       "cython_runtime      NA\n",
       "dateutil            2.8.2\n",
       "debugpy             1.8.0\n",
       "decorator           5.1.1\n",
       "exceptiongroup      1.1.3\n",
       "executing           2.0.1\n",
       "google              NA\n",
       "grpc                1.59.0\n",
       "grpc_tools          NA\n",
       "h11                 0.14.0\n",
       "h2                  4.1.0\n",
       "hpack               4.0.0\n",
       "httpcore            0.18.0\n",
       "httpx               0.25.0\n",
       "hyperframe          6.0.1\n",
       "idna                3.4\n",
       "importlib_metadata  NA\n",
       "ipykernel           6.26.0\n",
       "jedi                0.19.1\n",
       "onnxruntime         1.16.3\n",
       "packaging           23.2\n",
       "parso               0.8.3\n",
       "pexpect             4.8.0\n",
       "platformdirs        4.0.0\n",
       "portalocker         2.8.2\n",
       "prompt_toolkit      3.0.41\n",
       "psutil              5.9.6\n",
       "ptyprocess          0.7.0\n",
       "pure_eval           0.2.2\n",
       "pydantic            2.4.2\n",
       "pydantic_core       2.10.1\n",
       "pydev_ipython       NA\n",
       "pydevconsole        NA\n",
       "pydevd              2.9.5\n",
       "pydevd_file_utils   NA\n",
       "pydevd_plugins      NA\n",
       "pydevd_tracing      NA\n",
       "pyexpat             NA\n",
       "pygments            2.16.1\n",
       "pytz                2023.3.post1\n",
       "requests            2.31.0\n",
       "simplejson          3.19.2\n",
       "six                 1.15.0\n",
       "sniffio             1.3.0\n",
       "stack_data          0.6.3\n",
       "tokenizers          0.13.3\n",
       "tornado             6.3.3\n",
       "tqdm                4.66.1\n",
       "traitlets           5.13.0\n",
       "typing_extensions   NA\n",
       "urllib3             1.26.17\n",
       "wcwidth             0.2.10\n",
       "zipp                NA\n",
       "zmq                 25.1.1\n",
       "</pre>\n",
       "</details> <!-- seems like this ends pre, so might as well be explicit -->\n",
       "<pre>\n",
       "-----\n",
       "IPython             8.17.2\n",
       "jupyter_client      8.6.0\n",
       "jupyter_core        5.5.0\n",
       "-----\n",
       "Python 3.9.6 (default, Aug 11 2023, 19:44:49) [Clang 15.0.0 (clang-1500.0.40.1)]\n",
       "macOS-13.5-arm64-arm-64bit\n",
       "-----\n",
       "Session information updated at 2024-01-13 16:54\n",
       "</pre>\n",
       "</details>"
      ],
      "text/plain": [
       "<IPython.core.display.HTML object>"
      ]
     },
     "execution_count": 29,
     "metadata": {},
     "output_type": "execute_result"
    }
   ],
   "source": [
    "# !pip3 install session-info\n",
    "# import session_info\n",
    "# session_info.show()"
   ]
  },
  {
   "cell_type": "code",
   "execution_count": 1,
   "metadata": {},
   "outputs": [],
   "source": [
    "from qdrant_client import QdrantClient\n",
    "from qdrant_client.http import models\n",
    "from qdrant_client.http.models import Distance, VectorParams\n",
    "from qdrant_client.http.models import PointStruct\n",
    "import numpy as np\n",
    "import random\n",
    "import pandas as pd\n",
    "import time\n",
    "\n",
    "import utils"
   ]
  },
  {
   "cell_type": "code",
   "execution_count": 2,
   "metadata": {},
   "outputs": [
    {
     "name": "stdout",
     "output_type": "stream",
     "text": [
      "Loading file: sift_base.fvecs\n",
      "    The dimension of the vectors in the file is: 128\n",
      "    The final shape of the loaded dataset sift_base.fvecs is (1000000, 128).\n",
      "Loading file: sift_query.fvecs\n",
      "    The dimension of the vectors in the file is: 128\n",
      "    The final shape of the loaded dataset sift_query.fvecs is (10000, 128).\n",
      " Loading file: sift_groundtruth.ivecs\n",
      "    The dimension of the vectors in the file is: 100\n",
      "    The final shape of the loaded dataset is (10000, 100).\n"
     ]
    }
   ],
   "source": [
    "qdrantClient = QdrantClient(host='localhost', port=6333, timeout=10000000)\n",
    "# base_vectors = utils.read_fvecs(\"../../dataset/siftsmall/siftsmall_base.fvecs\")\n",
    "# query_vectors = utils.read_fvecs(\"../../dataset/siftsmall/siftsmall_query.fvecs\")\n",
    "# knn_groundtruth = utils.read_ivecs(\"../../dataset/siftsmall/siftsmall_groundtruth.ivecs\")\n",
    "base_vectors = utils.read_fvecs(\"../../dataset/sift/sift_base.fvecs\")\n",
    "query_vectors = utils.read_fvecs(\"../../dataset/sift/sift_query.fvecs\")\n",
    "knn_groundtruth = utils.read_ivecs(\"../../dataset/sift/sift_groundtruth.ivecs\")"
   ]
  },
  {
   "cell_type": "markdown",
   "metadata": {},
   "source": [
    "# Attribute filtering "
   ]
  },
  {
   "cell_type": "markdown",
   "metadata": {},
   "source": [
    "Add random boolean attributes to base vectors"
   ]
  },
  {
   "cell_type": "code",
   "execution_count": 3,
   "metadata": {},
   "outputs": [],
   "source": [
    "base_vectors_with_attributes = pd.DataFrame({'vector': base_vectors.tolist()})\n",
    "num_rows = len(base_vectors_with_attributes)\n",
    "base_vectors_with_attributes['attr1'] = [random.choice([True, False]) for _ in range(num_rows)]\n",
    "base_vectors_with_attributes['attr2'] = [random.choice([True, False]) for _ in range(num_rows)]\n",
    "base_vectors_with_attributes['attr3'] = [random.choice([True, False]) for _ in range(num_rows)]"
   ]
  },
  {
   "cell_type": "markdown",
   "metadata": {},
   "source": [
    "Create qdrant collection"
   ]
  },
  {
   "cell_type": "code",
   "execution_count": 4,
   "metadata": {},
   "outputs": [
    {
     "data": {
      "text/plain": [
       "True"
      ]
     },
     "execution_count": 4,
     "metadata": {},
     "output_type": "execute_result"
    }
   ],
   "source": [
    "vector_size = 128\n",
    "collection_name = \"attribute_filtering_1M\"\n",
    "\n",
    "qdrantClient.delete_collection(collection_name=collection_name)\n",
    "\n",
    "qdrantClient.recreate_collection(\n",
    "    collection_name=collection_name,\n",
    "    vectors_config=VectorParams(size=vector_size, distance=Distance.EUCLID),\n",
    ")"
   ]
  },
  {
   "cell_type": "code",
   "execution_count": 5,
   "metadata": {},
   "outputs": [
    {
     "name": "stdout",
     "output_type": "stream",
     "text": [
      "Points created in 52.095218896865845\n"
     ]
    }
   ],
   "source": [
    "start_time = time.time()\n",
    "batch_points = [PointStruct(id=i, vector=elem[\"vector\"], payload= {\"attr1\": elem[\"attr1\"], \"attr2\": elem[\"attr2\"], \"attr3\": elem[\"attr3\"]}) for i, elem in base_vectors_with_attributes.iterrows()]\n",
    "end_time = time.time()\n",
    "time_span = end_time - start_time\n",
    "print(f'Points created in {time_span}')"
   ]
  },
  {
   "cell_type": "code",
   "execution_count": 6,
   "metadata": {},
   "outputs": [
    {
     "data": {
      "text/plain": [
       "1000000"
      ]
     },
     "execution_count": 6,
     "metadata": {},
     "output_type": "execute_result"
    }
   ],
   "source": [
    "len(batch_points)"
   ]
  },
  {
   "cell_type": "markdown",
   "metadata": {},
   "source": [
    "Create point-structure elements and insert them in DB (see qdrant docs)"
   ]
  },
  {
   "cell_type": "code",
   "execution_count": 7,
   "metadata": {},
   "outputs": [
    {
     "name": "stdout",
     "output_type": "stream",
     "text": [
      "Number of batches: 20\n",
      "Current progress: 1000000/1000000\r"
     ]
    }
   ],
   "source": [
    "batch_size = 50000\n",
    "num_batches = len(base_vectors) // batch_size + int(len(base_vectors) % batch_size > 0)\n",
    "print(f'Number of batches: {num_batches}')\n",
    "\n",
    "for batch_idx in range(num_batches):\n",
    "    print(f'Current progress: {(batch_idx+1)*batch_size}/{len(base_vectors)}', end='\\r')\n",
    "    start_idx = batch_idx * batch_size\n",
    "    end_idx = min((batch_idx + 1) * batch_size, len(base_vectors))\n",
    "\n",
    "    batch_points_i = batch_points[start_idx:end_idx]\n",
    "\n",
    "    operation_info = qdrantClient.upsert(\n",
    "        collection_name=collection_name,\n",
    "        wait=True,\n",
    "        points=batch_points_i\n",
    "    )"
   ]
  },
  {
   "cell_type": "code",
   "execution_count": 8,
   "metadata": {},
   "outputs": [
    {
     "data": {
      "text/plain": [
       "CollectionInfo(status=<CollectionStatus.YELLOW: 'yellow'>, optimizer_status=<OptimizersStatusOneOf.OK: 'ok'>, vectors_count=1100000, indexed_vectors_count=800000, points_count=1100000, segments_count=3, config=CollectionConfig(params=CollectionParams(vectors=VectorParams(size=128, distance=<Distance.EUCLID: 'Euclid'>, hnsw_config=None, quantization_config=None, on_disk=None), shard_number=1, replication_factor=1, write_consistency_factor=1, read_fan_out_factor=None, on_disk_payload=True), hnsw_config=HnswConfig(m=16, ef_construct=100, full_scan_threshold=10000, max_indexing_threads=0, on_disk=False, payload_m=None), optimizer_config=OptimizersConfig(deleted_threshold=0.2, vacuum_min_vector_number=1000, default_segment_number=0, max_segment_size=None, memmap_threshold=None, indexing_threshold=20000, flush_interval_sec=5, max_optimization_threads=1), wal_config=WalConfig(wal_capacity_mb=32, wal_segments_ahead=0), quantization_config=None), payload_schema={})"
      ]
     },
     "execution_count": 8,
     "metadata": {},
     "output_type": "execute_result"
    }
   ],
   "source": [
    "qdrantClient.get_collection(collection_name=collection_name)\n",
    "# Wait until status is green"
   ]
  },
  {
   "cell_type": "markdown",
   "metadata": {},
   "source": [
    "Add random boolean attributes to query vectors"
   ]
  },
  {
   "cell_type": "code",
   "execution_count": 9,
   "metadata": {},
   "outputs": [],
   "source": [
    "query_vectors_with_attributes = pd.DataFrame({'vector': query_vectors.tolist()})\n",
    "num_rows = len(query_vectors_with_attributes)\n",
    "query_vectors_with_attributes['attr1'] = [random.choice([True, False]) for _ in range(num_rows)]\n",
    "query_vectors_with_attributes['attr2'] = [random.choice([True, False]) for _ in range(num_rows)]\n",
    "query_vectors_with_attributes['attr3'] = [random.choice([True, False]) for _ in range(num_rows)]\n",
    "\n",
    "# truth = utils.top_k_neighbors(query_vectors_with_attributes, base_vectors_with_attributes)\n"
   ]
  },
  {
   "cell_type": "markdown",
   "metadata": {},
   "source": [
    "**Calculate ground truth** between query vectors and base vectors (which were inserted in the DB)"
   ]
  },
  {
   "cell_type": "code",
   "execution_count": 11,
   "metadata": {},
   "outputs": [],
   "source": [
    "import utils"
   ]
  },
  {
   "cell_type": "code",
   "execution_count": 10,
   "metadata": {},
   "outputs": [
    {
     "name": "stdout",
     "output_type": "stream",
     "text": [
      "2760/10000\r"
     ]
    }
   ],
   "source": [
    "truth = utils.top_k_neighbors(query_vectors_with_attributes, base_vectors_with_attributes, k=100, function='euclidean', filtering=True) \n",
    "\n",
    "# truth contains the IDs of the k nearest neighbors that also satisfy the attribute filtering clause\n",
    "# truth[0] contains a vector with all 100 IDs of the nn from query 0"
   ]
  },
  {
   "cell_type": "markdown",
   "metadata": {},
   "source": [
    "Now search the knn in qdrant"
   ]
  },
  {
   "cell_type": "code",
   "execution_count": 15,
   "metadata": {},
   "outputs": [
    {
     "name": "stdout",
     "output_type": "stream",
     "text": [
      "Search function starting\n",
      "Search function took 1.8239409923553467 seconds\n"
     ]
    }
   ],
   "source": [
    "print(f'Search function starting')\n",
    "start_time = time.time()\n",
    "\n",
    "result_ids = []\n",
    "for _,elem in query_vectors_with_attributes.iterrows():\n",
    "    # print(elem)\n",
    "    vec = elem[\"vector\"]\n",
    "    attr1 = elem[\"attr1\"]\n",
    "    attr2 = elem[\"attr2\"]\n",
    "    attr3 = elem[\"attr3\"]\n",
    "    # print(attr1, attr2, attr3)\n",
    "    search_result = qdrantClient.search(\n",
    "        collection_name=\"attribute_filtering\", \n",
    "        query_vector=vec, \n",
    "        query_filter=models.Filter(\n",
    "            # must = AND\n",
    "            must=[\n",
    "                models.FieldCondition(\n",
    "                    key=\"attr1\",\n",
    "                    match=models.MatchValue(\n",
    "                        value=attr1,\n",
    "                    ),\n",
    "                ),\n",
    "                models.FieldCondition(\n",
    "                    key=\"attr2\",\n",
    "                    match=models.MatchValue(\n",
    "                        value=attr2,\n",
    "                    ),\n",
    "                ),\n",
    "                models.FieldCondition(\n",
    "                    key=\"attr3\",\n",
    "                    match=models.MatchValue(\n",
    "                        value=attr3,\n",
    "                    ),\n",
    "                )\n",
    "            ]\n",
    "        ),\n",
    "        limit=100\n",
    "    )\n",
    "    result_ids.append([elem.id for elem in search_result])\n",
    "\n",
    "end_time = time.time()\n",
    "time_span = end_time - start_time\n",
    "print(f'Search function took {end_time - start_time} seconds')"
   ]
  },
  {
   "cell_type": "code",
   "execution_count": 17,
   "metadata": {},
   "outputs": [
    {
     "name": "stdout",
     "output_type": "stream",
     "text": [
      "QPS = 54.8263\n",
      "Average recall: 1.0\n"
     ]
    }
   ],
   "source": [
    "true_positives = 0\n",
    "n_classified = 0\n",
    "for i,elem in enumerate(result_ids):\n",
    "    true_positives_iter = len(np.intersect1d(truth[i], elem))\n",
    "    true_positives += true_positives_iter\n",
    "    n_classified += len(elem)\n",
    "\n",
    "print(f'QPS = {(len(query_vectors) / time_span):.4f}')\n",
    "print(f'Average recall: {true_positives/n_classified}')"
   ]
  },
  {
   "cell_type": "markdown",
   "metadata": {},
   "source": [
    "# Graveyard"
   ]
  },
  {
   "cell_type": "code",
   "execution_count": 76,
   "metadata": {},
   "outputs": [
    {
     "data": {
      "text/plain": [
       "vector    [3.0, 0.0, 0.0, 0.0, 13.0, 25.0, 23.0, 22.0, 0...\n",
       "attr1                                                 False\n",
       "attr2                                                 False\n",
       "attr3                                                 False\n",
       "Name: 8021, dtype: object"
      ]
     },
     "execution_count": 76,
     "metadata": {},
     "output_type": "execute_result"
    }
   ],
   "source": [
    "base_vectors_with_attributes.iloc[8021]"
   ]
  },
  {
   "cell_type": "code",
   "execution_count": null,
   "metadata": {},
   "outputs": [],
   "source": [
    "import numpy as np\n",
    "\n",
    "res = [elem.id for elem in search_result]\n",
    "res = np.array(res, dtype=np.int32)\n",
    "\n",
    "intersection"
   ]
  },
  {
   "cell_type": "code",
   "execution_count": null,
   "metadata": {},
   "outputs": [],
   "source": [
    "# for vec in query_vectors:\n",
    "#     search_result = qdrantClient.search(\n",
    "#         collection_name=\"test_collection\", query_vector=[0.0 for _ in range(vector_size)], limit=100\n",
    "#     )\n",
    "#     break\n",
    "\n",
    "for vec in query_vectors:\n",
    "    search_result = qdrantClient.search(\n",
    "        collection_name=\"test_collection\", query_vector=vec, limit=100\n",
    "    )\n",
    "    break\n"
   ]
  },
  {
   "cell_type": "code",
   "execution_count": null,
   "metadata": {},
   "outputs": [],
   "source": [
    "columns_to_match = base_vectors_with_attributes.columns[1:]\n",
    "print(f\"We will be matching the following (boolean) values: {query_vectors_with_attributes[columns_to_match].iloc[0]}\")\n",
    "\n",
    "# Create a boolean mask based on values in the 'r' row\n",
    "# mask = (base_vectors_with_attributes[columns_to_match] == query_vectors_with_attributes[columns_to_match].iloc[0]).all(axis=1)\n",
    "\n",
    "# filtered_df = base_vectors_with_attributes[mask]\n",
    "# filtered_df\n",
    "\n",
    "import utils\n",
    "utils"
   ]
  },
  {
   "cell_type": "code",
   "execution_count": null,
   "metadata": {},
   "outputs": [],
   "source": [
    "# query_vectors_with_attributes.columns\n",
    "boolean_columns = query_vectors_with_attributes.columns[query_vectors_with_attributes.dtypes == bool].difference(['vector'])\n",
    "mask = (base_vectors_with_attributes[boolean_columns] == query_vectors_with_attributes[boolean_columns].iloc[0]).all(axis=1)\n",
    "mask"
   ]
  }
 ],
 "metadata": {
  "kernelspec": {
   "display_name": "Python 3",
   "language": "python",
   "name": "python3"
  },
  "language_info": {
   "codemirror_mode": {
    "name": "ipython",
    "version": 3
   },
   "file_extension": ".py",
   "mimetype": "text/x-python",
   "name": "python",
   "nbconvert_exporter": "python",
   "pygments_lexer": "ipython3",
   "version": "3.9.6"
  }
 },
 "nbformat": 4,
 "nbformat_minor": 2
}
