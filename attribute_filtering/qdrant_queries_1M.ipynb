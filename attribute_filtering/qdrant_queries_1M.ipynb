{
 "cells": [
  {
   "cell_type": "markdown",
   "metadata": {},
   "source": [
    "Connect client\n"
   ]
  },
  {
   "cell_type": "code",
   "execution_count": 29,
   "metadata": {},
   "outputs": [
    {
     "data": {
      "text/html": [
       "<details>\n",
       "<summary>Click to view session information</summary>\n",
       "<pre>\n",
       "-----\n",
       "fastembed           NA\n",
       "numpy               1.26.0\n",
       "pandas              2.1.3\n",
       "qdrant_client       NA\n",
       "session_info        1.0.0\n",
       "utils               NA\n",
       "-----\n",
       "</pre>\n",
       "<details>\n",
       "<summary>Click to view modules imported as dependencies</summary>\n",
       "<pre>\n",
       "annotated_types     0.5.0\n",
       "anyio               NA\n",
       "appnope             0.1.3\n",
       "asttokens           NA\n",
       "certifi             2023.07.22\n",
       "charset_normalizer  3.3.0\n",
       "click               8.1.7\n",
       "comm                0.2.0\n",
       "cython_runtime      NA\n",
       "dateutil            2.8.2\n",
       "debugpy             1.8.0\n",
       "decorator           5.1.1\n",
       "exceptiongroup      1.1.3\n",
       "executing           2.0.1\n",
       "google              NA\n",
       "grpc                1.59.0\n",
       "grpc_tools          NA\n",
       "h11                 0.14.0\n",
       "h2                  4.1.0\n",
       "hpack               4.0.0\n",
       "httpcore            0.18.0\n",
       "httpx               0.25.0\n",
       "hyperframe          6.0.1\n",
       "idna                3.4\n",
       "importlib_metadata  NA\n",
       "ipykernel           6.26.0\n",
       "jedi                0.19.1\n",
       "onnxruntime         1.16.3\n",
       "packaging           23.2\n",
       "parso               0.8.3\n",
       "pexpect             4.8.0\n",
       "platformdirs        4.0.0\n",
       "portalocker         2.8.2\n",
       "prompt_toolkit      3.0.41\n",
       "psutil              5.9.6\n",
       "ptyprocess          0.7.0\n",
       "pure_eval           0.2.2\n",
       "pydantic            2.4.2\n",
       "pydantic_core       2.10.1\n",
       "pydev_ipython       NA\n",
       "pydevconsole        NA\n",
       "pydevd              2.9.5\n",
       "pydevd_file_utils   NA\n",
       "pydevd_plugins      NA\n",
       "pydevd_tracing      NA\n",
       "pyexpat             NA\n",
       "pygments            2.16.1\n",
       "pytz                2023.3.post1\n",
       "requests            2.31.0\n",
       "simplejson          3.19.2\n",
       "six                 1.15.0\n",
       "sniffio             1.3.0\n",
       "stack_data          0.6.3\n",
       "tokenizers          0.13.3\n",
       "tornado             6.3.3\n",
       "tqdm                4.66.1\n",
       "traitlets           5.13.0\n",
       "typing_extensions   NA\n",
       "urllib3             1.26.17\n",
       "wcwidth             0.2.10\n",
       "zipp                NA\n",
       "zmq                 25.1.1\n",
       "</pre>\n",
       "</details> <!-- seems like this ends pre, so might as well be explicit -->\n",
       "<pre>\n",
       "-----\n",
       "IPython             8.17.2\n",
       "jupyter_client      8.6.0\n",
       "jupyter_core        5.5.0\n",
       "-----\n",
       "Python 3.9.6 (default, Aug 11 2023, 19:44:49) [Clang 15.0.0 (clang-1500.0.40.1)]\n",
       "macOS-13.5-arm64-arm-64bit\n",
       "-----\n",
       "Session information updated at 2024-01-13 16:54\n",
       "</pre>\n",
       "</details>"
      ],
      "text/plain": [
       "<IPython.core.display.HTML object>"
      ]
     },
     "execution_count": 29,
     "metadata": {},
     "output_type": "execute_result"
    }
   ],
   "source": [
    "# !pip3 install session-info\n",
    "# import session_info\n",
    "# session_info.show()"
   ]
  },
  {
   "cell_type": "code",
   "execution_count": 2,
   "metadata": {},
   "outputs": [],
   "source": [
    "from qdrant_client import QdrantClient\n",
    "from qdrant_client.http import models\n",
    "from qdrant_client.http.models import Distance, VectorParams\n",
    "from qdrant_client.http.models import PointStruct\n",
    "import numpy as np\n",
    "import random\n",
    "import pandas as pd\n",
    "import time, pickle\n",
    "\n",
    "import utils"
   ]
  },
  {
   "cell_type": "code",
   "execution_count": 6,
   "metadata": {},
   "outputs": [],
   "source": [
    "qdrantClient = QdrantClient(host='localhost', port=6333, timeout=10000000)\n",
    "# base_vectors = utils.read_fvecs(\"../../dataset/siftsmall/siftsmall_base.fvecs\")\n",
    "# query_vectors = utils.read_fvecs(\"../../dataset/siftsmall/siftsmall_query.fvecs\")\n",
    "# knn_groundtruth = utils.read_ivecs(\"../../dataset/siftsmall/siftsmall_groundtruth.ivecs\")\n",
    "# base_vectors = utils.read_fvecs(\"../../dataset/sift/sift_base.fvecs\")\n",
    "# query_vectors = utils.read_fvecs(\"../../dataset/sift/sift_query.fvecs\")\n",
    "# knn_groundtruth = utils.read_ivecs(\"../../dataset/sift/sift_groundtruth.ivecs\")\n",
    "\n",
    "with open('query_vectors_with_attributes.pkl', 'rb') as f:\n",
    "    query_vectors_with_attributes = pickle.load(f)\n",
    "\n",
    "with open('base_vectors_with_attributes.pkl', 'rb') as f:\n",
    "    base_vectors_with_attributes = pickle.load(f)\n",
    "\n",
    "with open('calculated_truth.pkl', 'rb') as f:\n",
    "    truth = pickle.load(f)"
   ]
  },
  {
   "cell_type": "code",
   "execution_count": 14,
   "metadata": {},
   "outputs": [
    {
     "data": {
      "text/plain": [
       "1000000"
      ]
     },
     "execution_count": 14,
     "metadata": {},
     "output_type": "execute_result"
    }
   ],
   "source": [
    "len(base_vectors_with_attributes)"
   ]
  },
  {
   "cell_type": "markdown",
   "metadata": {},
   "source": [
    "# Attribute filtering "
   ]
  },
  {
   "cell_type": "markdown",
   "metadata": {},
   "source": [
    "Add random boolean attributes to base vectors"
   ]
  },
  {
   "cell_type": "markdown",
   "metadata": {},
   "source": [
    "Create qdrant collection"
   ]
  },
  {
   "cell_type": "code",
   "execution_count": 12,
   "metadata": {},
   "outputs": [
    {
     "data": {
      "text/plain": [
       "True"
      ]
     },
     "execution_count": 12,
     "metadata": {},
     "output_type": "execute_result"
    }
   ],
   "source": [
    "vector_size = 128\n",
    "collection_name = \"attribute_filtering_1M\"\n",
    "\n",
    "qdrantClient.delete_collection(collection_name=collection_name)\n",
    "\n",
    "qdrantClient.recreate_collection(\n",
    "    collection_name=collection_name,\n",
    "    vectors_config=VectorParams(size=vector_size, distance=Distance.EUCLID),\n",
    ")"
   ]
  },
  {
   "cell_type": "code",
   "execution_count": 13,
   "metadata": {},
   "outputs": [
    {
     "name": "stdout",
     "output_type": "stream",
     "text": [
      "Points created in 41.344099283218384\n"
     ]
    }
   ],
   "source": [
    "start_time = time.time()\n",
    "batch_points = [PointStruct(id=i, vector=elem[\"vector\"], payload= {\"attr1\": elem[\"attr1\"], \"attr2\": elem[\"attr2\"], \"attr3\": elem[\"attr3\"]}) for i, elem in base_vectors_with_attributes.iterrows()]\n",
    "end_time = time.time()\n",
    "time_span = end_time - start_time\n",
    "print(f'Points created in {time_span}')"
   ]
  },
  {
   "cell_type": "code",
   "execution_count": 32,
   "metadata": {},
   "outputs": [
    {
     "data": {
      "text/plain": [
       "vector    [0.0, 16.0, 35.0, 5.0, 32.0, 31.0, 14.0, 10.0,...\n",
       "attr1                                                  True\n",
       "attr2                                                  True\n",
       "attr3                                                 False\n",
       "Name: 0, dtype: object"
      ]
     },
     "execution_count": 32,
     "metadata": {},
     "output_type": "execute_result"
    }
   ],
   "source": [
    "base_vectors_with_attributes.iloc[0]"
   ]
  },
  {
   "cell_type": "code",
   "execution_count": 33,
   "metadata": {},
   "outputs": [
    {
     "data": {
      "text/plain": [
       "PointStruct(id=0, vector=[0.0, 16.0, 35.0, 5.0, 32.0, 31.0, 14.0, 10.0, 11.0, 78.0, 55.0, 10.0, 45.0, 83.0, 11.0, 6.0, 14.0, 57.0, 102.0, 75.0, 20.0, 8.0, 3.0, 5.0, 67.0, 17.0, 19.0, 26.0, 5.0, 0.0, 1.0, 22.0, 60.0, 26.0, 7.0, 1.0, 18.0, 22.0, 84.0, 53.0, 85.0, 119.0, 119.0, 4.0, 24.0, 18.0, 7.0, 7.0, 1.0, 81.0, 106.0, 102.0, 72.0, 30.0, 6.0, 0.0, 9.0, 1.0, 9.0, 119.0, 72.0, 1.0, 4.0, 33.0, 119.0, 29.0, 6.0, 1.0, 0.0, 1.0, 14.0, 52.0, 119.0, 30.0, 3.0, 0.0, 0.0, 55.0, 92.0, 111.0, 2.0, 5.0, 4.0, 9.0, 22.0, 89.0, 96.0, 14.0, 1.0, 0.0, 1.0, 82.0, 59.0, 16.0, 20.0, 5.0, 25.0, 14.0, 11.0, 4.0, 0.0, 0.0, 1.0, 26.0, 47.0, 23.0, 4.0, 0.0, 0.0, 4.0, 38.0, 83.0, 30.0, 14.0, 9.0, 4.0, 9.0, 17.0, 23.0, 41.0, 0.0, 0.0, 2.0, 8.0, 19.0, 25.0, 23.0, 1.0], payload={'attr1': True, 'attr2': True, 'attr3': False})"
      ]
     },
     "execution_count": 33,
     "metadata": {},
     "output_type": "execute_result"
    }
   ],
   "source": [
    "batch_points[0]"
   ]
  },
  {
   "cell_type": "markdown",
   "metadata": {},
   "source": [
    "Create point-structure elements and insert them in DB (see qdrant docs)"
   ]
  },
  {
   "cell_type": "code",
   "execution_count": 15,
   "metadata": {},
   "outputs": [
    {
     "name": "stdout",
     "output_type": "stream",
     "text": [
      "Number of batches: 20\n",
      "Current progress: 1000000/1000000\r"
     ]
    }
   ],
   "source": [
    "batch_size = 50000\n",
    "num_batches = len(base_vectors_with_attributes) // batch_size + int(len(base_vectors_with_attributes) % batch_size > 0)\n",
    "print(f'Number of batches: {num_batches}')\n",
    "\n",
    "for batch_idx in range(num_batches):\n",
    "    print(f'Current progress: {(batch_idx+1)*batch_size}/{len(base_vectors_with_attributes)}', end='\\r')\n",
    "    start_idx = batch_idx * batch_size\n",
    "    end_idx = min((batch_idx + 1) * batch_size, len(base_vectors_with_attributes))\n",
    "\n",
    "    batch_points_i = batch_points[start_idx:end_idx]\n",
    "\n",
    "    operation_info = qdrantClient.upsert(\n",
    "        collection_name=collection_name,\n",
    "        wait=True,\n",
    "        points=batch_points_i\n",
    "    )"
   ]
  },
  {
   "cell_type": "code",
   "execution_count": 18,
   "metadata": {},
   "outputs": [],
   "source": [
    "res = qdrantClient.get_collection(collection_name=collection_name)\n",
    "# Wait until status is green"
   ]
  },
  {
   "cell_type": "code",
   "execution_count": 22,
   "metadata": {},
   "outputs": [
    {
     "data": {
      "text/plain": [
       "True"
      ]
     },
     "execution_count": 22,
     "metadata": {},
     "output_type": "execute_result"
    }
   ],
   "source": [
    "res.status == 'green'"
   ]
  },
  {
   "cell_type": "markdown",
   "metadata": {},
   "source": [
    "Add random boolean attributes to query vectors"
   ]
  },
  {
   "cell_type": "markdown",
   "metadata": {},
   "source": [
    "Now search the knn in qdrant"
   ]
  },
  {
   "cell_type": "code",
   "execution_count": 43,
   "metadata": {},
   "outputs": [
    {
     "name": "stdout",
     "output_type": "stream",
     "text": [
      "Search function starting\n",
      "Search function took 73.63646221160889 seconds\n"
     ]
    }
   ],
   "source": [
    "print(f'Search function starting')\n",
    "start_time = time.time()\n",
    "\n",
    "result_ids = []\n",
    "for i,elem in query_vectors_with_attributes.iterrows():\n",
    "    if i == 100:\n",
    "        break\n",
    "    print(f'{i}/{len(query_vectors_with_attributes)}', end='\\r')\n",
    "    # print(elem)\n",
    "    vec = elem[\"vector\"]\n",
    "    attr1 = elem[\"attr1\"]\n",
    "    attr2 = elem[\"attr2\"]\n",
    "    attr3 = elem[\"attr3\"]\n",
    "    # print(attr1, attr2, attr3)\n",
    "    search_result = qdrantClient.search(\n",
    "        collection_name=\"attribute_filtering_1M\", \n",
    "        query_vector=vec, \n",
    "        query_filter=models.Filter(\n",
    "            # must = AND\n",
    "            must=[\n",
    "                models.FieldCondition(\n",
    "                    key=\"attr1\",\n",
    "                    match=models.MatchValue(\n",
    "                        value=attr1,\n",
    "                    ),\n",
    "                ),\n",
    "                models.FieldCondition(\n",
    "                    key=\"attr2\",\n",
    "                    match=models.MatchValue(\n",
    "                        value=attr2,\n",
    "                    ),\n",
    "                ),\n",
    "                models.FieldCondition(\n",
    "                    key=\"attr3\",\n",
    "                    match=models.MatchValue(\n",
    "                        value=attr3,\n",
    "                    ),\n",
    "                )\n",
    "            ]\n",
    "        ),\n",
    "        limit=100,\n",
    "        # search_params=models.SearchParams(\n",
    "        #     exact=True,  # Turns on the exact search mode\n",
    "        # ),\n",
    "    )\n",
    "    result_ids.append([elem.id for elem in search_result])\n",
    "\n",
    "end_time = time.time()\n",
    "time_span = end_time - start_time\n",
    "print(f'Search function took {end_time - start_time} seconds')"
   ]
  },
  {
   "cell_type": "code",
   "execution_count": null,
   "metadata": {},
   "outputs": [],
   "source": [
    "result"
   ]
  },
  {
   "cell_type": "code",
   "execution_count": 36,
   "metadata": {},
   "outputs": [
    {
     "data": {
      "text/plain": [
       "array([721706,  49874, 701919, 904911, 556209, 806773, 465294, 374617,\n",
       "       956733, 670103, 871600, 570366, 879793,  13612, 238549, 931855,\n",
       "       561694, 708525, 392032, 977462, 875747, 758431, 244266, 956632,\n",
       "        86760,  72761, 454389, 913505, 377461,  16155, 574941, 222238,\n",
       "       731216, 711701, 570424, 820116, 377591, 710839, 403026, 705721,\n",
       "       844361, 946913, 308335, 502709, 793624, 921077, 393275, 223825,\n",
       "       605201, 561554, 698111, 973897, 753203, 964853, 380345,  19323,\n",
       "       707152, 226910, 929411, 203309, 973399, 684790, 758178, 266275,\n",
       "       158920, 586028, 868741,  14883, 868599, 843560, 408470, 845316,\n",
       "       564454, 977640, 173255, 178211, 502632, 977398, 574956, 563588,\n",
       "        87321,  98054,  89430, 932749,  14750, 707219, 407971, 982563,\n",
       "       732612, 511003, 561446, 504491,  68461, 918776, 130227, 399570,\n",
       "       831264, 486428,  98627, 885796])"
      ]
     },
     "execution_count": 36,
     "metadata": {},
     "output_type": "execute_result"
    }
   ],
   "source": [
    "truth[0]"
   ]
  },
  {
   "cell_type": "code",
   "execution_count": 39,
   "metadata": {},
   "outputs": [
    {
     "data": {
      "text/plain": [
       "array([721706,  49874, 701919, 904911, 806773, 465294, 956733, 871600,\n",
       "       931855, 758431, 956632,  86760,  72761, 454389, 731216, 403026,\n",
       "       705721, 844361, 502709, 793624, 393275, 605201, 561554, 973897,\n",
       "       964853, 380345, 226910, 929411, 973399, 758178, 158920, 843560,\n",
       "       502632,  98054, 932749, 707219, 407971, 732612, 511003, 561446,\n",
       "       399570, 486428,  98627, 888278, 603674, 242295,  10035, 943041,\n",
       "       516029, 394649, 883449, 164763, 398806, 390750, 253562, 909759,\n",
       "       407565, 505815, 729530, 843429, 869739, 932200, 201315, 265593,\n",
       "       489167, 861998, 686727, 255342, 870509, 265328, 724462, 919854,\n",
       "       844812, 562084, 844918, 920028, 841933, 237902, 913922, 842548,\n",
       "       590734,  60098, 683620, 965225, 664118, 887093, 863797, 842222,\n",
       "       840983, 905416, 842861, 472271, 705078, 911485, 922981, 125539,\n",
       "       946969, 993681, 924882, 732637])"
      ]
     },
     "execution_count": 39,
     "metadata": {},
     "output_type": "execute_result"
    }
   ],
   "source": [
    "np.array(result_ids[0])"
   ]
  },
  {
   "cell_type": "code",
   "execution_count": 47,
   "metadata": {},
   "outputs": [
    {
     "data": {
      "text/plain": [
       "1000"
      ]
     },
     "execution_count": 47,
     "metadata": {},
     "output_type": "execute_result"
    }
   ],
   "source": [
    "sum = 0\n",
    "for i in range(10):\n",
    "    sum += len(np.intersect1d(truth[i], result_ids_exact[i]))\n",
    "sum"
   ]
  },
  {
   "cell_type": "code",
   "execution_count": 40,
   "metadata": {},
   "outputs": [
    {
     "name": "stdout",
     "output_type": "stream",
     "text": [
      "QPS = 53.3294\n",
      "Average recall: 0.26672331261159776\n"
     ]
    }
   ],
   "source": [
    "true_positives = 0\n",
    "n_classified = 0\n",
    "for i,elem in enumerate(result_ids):\n",
    "    true_positives_iter = len(np.intersect1d(truth[i], elem))\n",
    "    true_positives += true_positives_iter\n",
    "    n_classified += len(elem)\n",
    "\n",
    "print(f'QPS = {(len(query_vectors_with_attributes) / time_span):.4f}')\n",
    "print(f'Average recall: {true_positives/n_classified}')"
   ]
  },
  {
   "cell_type": "markdown",
   "metadata": {},
   "source": [
    "# Graveyard"
   ]
  },
  {
   "cell_type": "code",
   "execution_count": 76,
   "metadata": {},
   "outputs": [
    {
     "data": {
      "text/plain": [
       "vector    [3.0, 0.0, 0.0, 0.0, 13.0, 25.0, 23.0, 22.0, 0...\n",
       "attr1                                                 False\n",
       "attr2                                                 False\n",
       "attr3                                                 False\n",
       "Name: 8021, dtype: object"
      ]
     },
     "execution_count": 76,
     "metadata": {},
     "output_type": "execute_result"
    }
   ],
   "source": [
    "base_vectors_with_attributes.iloc[8021]"
   ]
  },
  {
   "cell_type": "code",
   "execution_count": null,
   "metadata": {},
   "outputs": [],
   "source": [
    "import numpy as np\n",
    "\n",
    "res = [elem.id for elem in search_result]\n",
    "res = np.array(res, dtype=np.int32)\n",
    "\n",
    "intersection"
   ]
  },
  {
   "cell_type": "code",
   "execution_count": null,
   "metadata": {},
   "outputs": [],
   "source": [
    "# for vec in query_vectors:\n",
    "#     search_result = qdrantClient.search(\n",
    "#         collection_name=\"test_collection\", query_vector=[0.0 for _ in range(vector_size)], limit=100\n",
    "#     )\n",
    "#     break\n",
    "\n",
    "for vec in query_vectors:\n",
    "    search_result = qdrantClient.search(\n",
    "        collection_name=\"test_collection\", query_vector=vec, limit=100\n",
    "    )\n",
    "    break\n"
   ]
  },
  {
   "cell_type": "code",
   "execution_count": null,
   "metadata": {},
   "outputs": [],
   "source": [
    "columns_to_match = base_vectors_with_attributes.columns[1:]\n",
    "print(f\"We will be matching the following (boolean) values: {query_vectors_with_attributes[columns_to_match].iloc[0]}\")\n",
    "\n",
    "# Create a boolean mask based on values in the 'r' row\n",
    "# mask = (base_vectors_with_attributes[columns_to_match] == query_vectors_with_attributes[columns_to_match].iloc[0]).all(axis=1)\n",
    "\n",
    "# filtered_df = base_vectors_with_attributes[mask]\n",
    "# filtered_df\n",
    "\n",
    "import utils\n",
    "utils"
   ]
  },
  {
   "cell_type": "code",
   "execution_count": null,
   "metadata": {},
   "outputs": [],
   "source": [
    "# query_vectors_with_attributes.columns\n",
    "boolean_columns = query_vectors_with_attributes.columns[query_vectors_with_attributes.dtypes == bool].difference(['vector'])\n",
    "mask = (base_vectors_with_attributes[boolean_columns] == query_vectors_with_attributes[boolean_columns].iloc[0]).all(axis=1)\n",
    "mask"
   ]
  }
 ],
 "metadata": {
  "kernelspec": {
   "display_name": "Python 3",
   "language": "python",
   "name": "python3"
  },
  "language_info": {
   "codemirror_mode": {
    "name": "ipython",
    "version": 3
   },
   "file_extension": ".py",
   "mimetype": "text/x-python",
   "name": "python",
   "nbconvert_exporter": "python",
   "pygments_lexer": "ipython3",
   "version": "3.9.6"
  }
 },
 "nbformat": 4,
 "nbformat_minor": 2
}
