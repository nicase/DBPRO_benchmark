{
 "cells": [
  {
   "cell_type": "code",
   "execution_count": 1,
   "metadata": {},
   "outputs": [],
   "source": [
    "from qdrant_client import QdrantClient\n",
    "from qdrant_client.http import models\n",
    "from qdrant_client.http.models import Distance, VectorParams\n",
    "from qdrant_client.http.models import PointStruct\n",
    "import numpy as np\n",
    "import random\n",
    "import pandas as pd\n",
    "import time\n",
    "\n",
    "import utils"
   ]
  },
  {
   "cell_type": "code",
   "execution_count": 2,
   "metadata": {},
   "outputs": [
    {
     "name": "stdout",
     "output_type": "stream",
     "text": [
      "Loading file: siftsmall_base.fvecs\n",
      "    The dimension of the vectors in the file is: 128\n",
      "    The final shape of the loaded dataset siftsmall_base.fvecs is (10000, 128).\n",
      "Loading file: siftsmall_query.fvecs\n",
      "    The dimension of the vectors in the file is: 128\n",
      "    The final shape of the loaded dataset siftsmall_query.fvecs is (100, 128).\n",
      " Loading file: siftsmall_groundtruth.ivecs\n",
      "    The dimension of the vectors in the file is: 100\n",
      "    The final shape of the loaded dataset is (100, 100).\n"
     ]
    }
   ],
   "source": [
    "qdrantClient = QdrantClient(host='localhost', port=6333)\n",
    "base_vectors = utils.read_fvecs(\"../../dataset/siftsmall/siftsmall_base.fvecs\")\n",
    "query_vectors = utils.read_fvecs(\"../../dataset/siftsmall/siftsmall_query.fvecs\")\n",
    "knn_groundtruth = utils.read_ivecs(\"../../dataset/siftsmall/siftsmall_groundtruth.ivecs\")"
   ]
  },
  {
   "cell_type": "code",
   "execution_count": 3,
   "metadata": {},
   "outputs": [],
   "source": [
    "base_vectors_with_attributes = pd.DataFrame({'vector': base_vectors.tolist()})\n",
    "num_rows = len(base_vectors_with_attributes)\n",
    "base_vectors_with_attributes['attr1'] = [random.choice([True, False]) for _ in range(num_rows)]\n",
    "base_vectors_with_attributes['attr2'] = [random.choice([True, False]) for _ in range(num_rows)]\n",
    "base_vectors_with_attributes['attr3'] = [random.choice([True, False]) for _ in range(num_rows)]"
   ]
  },
  {
   "cell_type": "code",
   "execution_count": 4,
   "metadata": {},
   "outputs": [],
   "source": [
    "vector_size = 128\n",
    "collection_name = \"test_multivector\""
   ]
  },
  {
   "cell_type": "code",
   "execution_count": 5,
   "metadata": {},
   "outputs": [
    {
     "data": {
      "text/plain": [
       "True"
      ]
     },
     "execution_count": 5,
     "metadata": {},
     "output_type": "execute_result"
    }
   ],
   "source": [
    "\n",
    "qdrantClient.delete_collection(collection_name=collection_name)\n",
    "\n",
    "qdrantClient.recreate_collection(\n",
    "    collection_name=collection_name,\n",
    "    vectors_config=VectorParams(size=vector_size, distance=Distance.EUCLID),\n",
    ")"
   ]
  },
  {
   "cell_type": "code",
   "execution_count": 6,
   "metadata": {},
   "outputs": [
    {
     "name": "stdout",
     "output_type": "stream",
     "text": [
      "operation_id=0 status=<UpdateStatus.COMPLETED: 'completed'>\n"
     ]
    }
   ],
   "source": [
    "batch_points = [PointStruct(id=i, vector=elem[\"vector\"], payload= {\"attr1\": elem[\"attr1\"], \"attr2\": elem[\"attr2\"], \"attr3\": elem[\"attr3\"]}) for i, elem in base_vectors_with_attributes.iterrows()]\n",
    "\n",
    "operation_info = qdrantClient.upsert(\n",
    "    collection_name=collection_name,\n",
    "    wait=True,\n",
    "    points=batch_points\n",
    ")\n",
    "print(operation_info)"
   ]
  },
  {
   "cell_type": "code",
   "execution_count": 7,
   "metadata": {},
   "outputs": [],
   "source": [
    "query_vectors_with_attributes = pd.DataFrame({'vector': query_vectors.tolist()})\n",
    "num_rows = len(query_vectors_with_attributes)\n",
    "query_vectors_with_attributes['attr1'] = [random.choice([True, False]) for _ in range(num_rows)]\n",
    "query_vectors_with_attributes['attr2'] = [random.choice([True, False]) for _ in range(num_rows)]\n",
    "query_vectors_with_attributes['attr3'] = [random.choice([True, False]) for _ in range(num_rows)]"
   ]
  },
  {
   "cell_type": "code",
   "execution_count": 9,
   "metadata": {},
   "outputs": [
    {
     "ename": "TypeError",
     "evalue": "search() missing 1 required positional argument: 'query_vector'",
     "output_type": "error",
     "traceback": [
      "\u001b[0;31m---------------------------------------------------------------------------\u001b[0m",
      "\u001b[0;31mTypeError\u001b[0m                                 Traceback (most recent call last)",
      "Cell \u001b[0;32mIn[9], line 1\u001b[0m\n\u001b[0;32m----> 1\u001b[0m search_result \u001b[38;5;241m=\u001b[39m \u001b[43mqdrantClient\u001b[49m\u001b[38;5;241;43m.\u001b[39;49m\u001b[43msearch\u001b[49m\u001b[43m(\u001b[49m\n\u001b[1;32m      2\u001b[0m \u001b[43m        \u001b[49m\u001b[43mcollection_name\u001b[49m\u001b[38;5;241;43m=\u001b[39;49m\u001b[43mcollection_name\u001b[49m\u001b[43m,\u001b[49m\u001b[43m \u001b[49m\n\u001b[1;32m      3\u001b[0m \u001b[43m        \u001b[49m\u001b[38;5;66;43;03m# query_vector=vec, \u001b[39;49;00m\n\u001b[1;32m      4\u001b[0m \u001b[43m        \u001b[49m\u001b[43mquery_filter\u001b[49m\u001b[38;5;241;43m=\u001b[39;49m\u001b[43mmodels\u001b[49m\u001b[38;5;241;43m.\u001b[39;49m\u001b[43mFilter\u001b[49m\u001b[43m(\u001b[49m\n\u001b[1;32m      5\u001b[0m \u001b[43m            \u001b[49m\u001b[38;5;66;43;03m# must = AND\u001b[39;49;00m\n\u001b[1;32m      6\u001b[0m \u001b[43m            \u001b[49m\u001b[43mmust\u001b[49m\u001b[38;5;241;43m=\u001b[39;49m\u001b[43m[\u001b[49m\n\u001b[1;32m      7\u001b[0m \u001b[43m                \u001b[49m\u001b[43mmodels\u001b[49m\u001b[38;5;241;43m.\u001b[39;49m\u001b[43mFieldCondition\u001b[49m\u001b[43m(\u001b[49m\n\u001b[1;32m      8\u001b[0m \u001b[43m                    \u001b[49m\u001b[43mkey\u001b[49m\u001b[38;5;241;43m=\u001b[39;49m\u001b[38;5;124;43m\"\u001b[39;49m\u001b[38;5;124;43mattr1\u001b[39;49m\u001b[38;5;124;43m\"\u001b[39;49m\u001b[43m,\u001b[49m\n\u001b[1;32m      9\u001b[0m \u001b[43m                    \u001b[49m\u001b[43mmatch\u001b[49m\u001b[38;5;241;43m=\u001b[39;49m\u001b[43mmodels\u001b[49m\u001b[38;5;241;43m.\u001b[39;49m\u001b[43mMatchValue\u001b[49m\u001b[43m(\u001b[49m\n\u001b[1;32m     10\u001b[0m \u001b[43m                        \u001b[49m\u001b[43mvalue\u001b[49m\u001b[38;5;241;43m=\u001b[39;49m\u001b[38;5;28;43;01mTrue\u001b[39;49;00m\u001b[43m,\u001b[49m\n\u001b[1;32m     11\u001b[0m \u001b[43m                    \u001b[49m\u001b[43m)\u001b[49m\u001b[43m,\u001b[49m\n\u001b[1;32m     12\u001b[0m \u001b[43m                \u001b[49m\u001b[43m)\u001b[49m\n\u001b[1;32m     13\u001b[0m \u001b[43m            \u001b[49m\u001b[43m]\u001b[49m\n\u001b[1;32m     14\u001b[0m \u001b[43m        \u001b[49m\u001b[43m)\u001b[49m\u001b[43m,\u001b[49m\n\u001b[1;32m     15\u001b[0m \u001b[43m)\u001b[49m\n",
      "\u001b[0;31mTypeError\u001b[0m: search() missing 1 required positional argument: 'query_vector'"
     ]
    }
   ],
   "source": [
    "search_result = qdrantClient.search(\n",
    "        collection_name=collection_name, \n",
    "        # query_vector=vec, \n",
    "        query_filter=models.Filter(\n",
    "            # must = AND\n",
    "            must=[\n",
    "                models.FieldCondition(\n",
    "                    key=\"attr1\",\n",
    "                    match=models.MatchValue(\n",
    "                        value=True,\n",
    "                    ),\n",
    "                )\n",
    "            ]\n",
    "        ),\n",
    ")"
   ]
  },
  {
   "cell_type": "code",
   "execution_count": null,
   "metadata": {},
   "outputs": [],
   "source": []
  }
 ],
 "metadata": {
  "kernelspec": {
   "display_name": "Python 3",
   "language": "python",
   "name": "python3"
  },
  "language_info": {
   "codemirror_mode": {
    "name": "ipython",
    "version": 3
   },
   "file_extension": ".py",
   "mimetype": "text/x-python",
   "name": "python",
   "nbconvert_exporter": "python",
   "pygments_lexer": "ipython3",
   "version": "3.9.6"
  }
 },
 "nbformat": 4,
 "nbformat_minor": 2
}
