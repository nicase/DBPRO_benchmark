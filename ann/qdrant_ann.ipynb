{
 "cells": [
  {
   "cell_type": "code",
   "execution_count": 30,
   "metadata": {},
   "outputs": [],
   "source": [
    "from qdrant_client import QdrantClient\n",
    "from qdrant_client.http import models\n",
    "from qdrant_client.http.models import Distance, VectorParams\n",
    "from qdrant_client.http.models import PointStruct\n",
    "import numpy as np\n",
    "import random\n",
    "import pandas as pd\n",
    "import time\n",
    "\n",
    "\n",
    "import utils"
   ]
  },
  {
   "cell_type": "code",
   "execution_count": 16,
   "metadata": {},
   "outputs": [
    {
     "name": "stdout",
     "output_type": "stream",
     "text": [
      "Loading file: siftsmall_base.fvecs\n",
      "    The dimension of the vectors in the file is: 128\n",
      "    The final shape of the loaded dataset siftsmall_base.fvecs is (10000, 128).\n",
      "Loading file: siftsmall_query.fvecs\n",
      "    The dimension of the vectors in the file is: 128\n",
      "    The final shape of the loaded dataset siftsmall_query.fvecs is (100, 128).\n",
      " Loading file: siftsmall_groundtruth.ivecs\n",
      "    The dimension of the vectors in the file is: 100\n",
      "    The final shape of the loaded dataset is (100, 100).\n"
     ]
    }
   ],
   "source": [
    "qdrantClient = QdrantClient(host='localhost', port=6333)\n",
    "base_vectors = utils.read_fvecs(\"../../dataset/siftsmall/siftsmall_base.fvecs\")\n",
    "query_vectors = utils.read_fvecs(\"../../dataset/siftsmall/siftsmall_query.fvecs\")\n",
    "knn_groundtruth = utils.read_ivecs(\"../../dataset/siftsmall/siftsmall_groundtruth.ivecs\")"
   ]
  },
  {
   "cell_type": "code",
   "execution_count": 17,
   "metadata": {},
   "outputs": [
    {
     "data": {
      "text/plain": [
       "True"
      ]
     },
     "execution_count": 17,
     "metadata": {},
     "output_type": "execute_result"
    }
   ],
   "source": [
    "vector_size = 128\n",
    "collection_name = \"ann\"\n",
    "\n",
    "qdrantClient.delete_collection(collection_name=collection_name)\n",
    "\n",
    "qdrantClient.recreate_collection(\n",
    "    collection_name=collection_name,\n",
    "    vectors_config=VectorParams(size=vector_size, distance=Distance.EUCLID),\n",
    ")"
   ]
  },
  {
   "cell_type": "code",
   "execution_count": 18,
   "metadata": {},
   "outputs": [],
   "source": [
    "query_vectors = pd.DataFrame({'vector': query_vectors.tolist()})\n",
    "base_vectors = pd.DataFrame({'vector': base_vectors.tolist()})\n"
   ]
  },
  {
   "cell_type": "code",
   "execution_count": 19,
   "metadata": {},
   "outputs": [
    {
     "name": "stdout",
     "output_type": "stream",
     "text": [
      "operation_id=0 status=<UpdateStatus.COMPLETED: 'completed'>\n"
     ]
    }
   ],
   "source": [
    "batch_points = [PointStruct(id=i, vector=elem[\"vector\"]) for i, elem in base_vectors.iterrows()]\n",
    "\n",
    "operation_info = qdrantClient.upsert(\n",
    "    collection_name=collection_name,\n",
    "    wait=True,\n",
    "    points=batch_points\n",
    ")\n",
    "print(operation_info)"
   ]
  },
  {
   "cell_type": "code",
   "execution_count": 20,
   "metadata": {},
   "outputs": [],
   "source": [
    "truth = utils.top_k_neighbors(query_vectors, base_vectors, k=100, function='euclidean', filtering=False) \n"
   ]
  },
  {
   "cell_type": "code",
   "execution_count": 37,
   "metadata": {},
   "outputs": [
    {
     "name": "stdout",
     "output_type": "stream",
     "text": [
      "Search function starting\n",
      "Search function took 0.4060990810394287 seconds\n",
      "QPS = 246.24532452534868\n"
     ]
    }
   ],
   "source": [
    "print(f'Search function starting')\n",
    "start_time = time.time()\n",
    "result_ids = []\n",
    "for _,elem in query_vectors.iterrows():\n",
    "    # print(elem)\n",
    "    vec = elem[\"vector\"]\n",
    "    search_result = qdrantClient.search(\n",
    "        collection_name=collection_name, \n",
    "        query_vector=vec, \n",
    "        limit=100\n",
    "    )\n",
    "    result_ids.append([elem.id for elem in search_result])\n",
    "\n",
    "end_time = time.time()\n",
    "time_span = end_time - start_time\n",
    "print(f'Search function took {end_time - start_time} seconds')\n"
   ]
  },
  {
   "cell_type": "code",
   "execution_count": 42,
   "metadata": {},
   "outputs": [
    {
     "name": "stdout",
     "output_type": "stream",
     "text": [
      "QPS = 246.2453\n",
      "Average recall: 1.0\n"
     ]
    }
   ],
   "source": [
    "true_positives = 0\n",
    "n_classified = 0\n",
    "for i,elem in enumerate(result_ids):\n",
    "    true_positives_iter = len(np.intersect1d(truth[i], elem))\n",
    "    true_positives += true_positives_iter\n",
    "    n_classified += len(elem)\n",
    "\n",
    "print(f'QPS = {(len(query_vectors) / time_span):.4f}')\n",
    "print(f'Average recall: {true_positives/n_classified}')"
   ]
  }
 ],
 "metadata": {
  "kernelspec": {
   "display_name": "Python 3",
   "language": "python",
   "name": "python3"
  },
  "language_info": {
   "codemirror_mode": {
    "name": "ipython",
    "version": 3
   },
   "file_extension": ".py",
   "mimetype": "text/x-python",
   "name": "python",
   "nbconvert_exporter": "python",
   "pygments_lexer": "ipython3",
   "version": "3.9.6"
  }
 },
 "nbformat": 4,
 "nbformat_minor": 2
}
