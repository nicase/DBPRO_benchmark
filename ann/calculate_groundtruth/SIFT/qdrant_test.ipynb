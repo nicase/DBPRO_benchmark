{
 "cells": [
  {
   "cell_type": "code",
   "execution_count": 1,
   "metadata": {},
   "outputs": [],
   "source": [
    "from qdrant_client import QdrantClient\n",
    "from qdrant_client.http import models\n",
    "from qdrant_client.http.models import Distance, VectorParams\n",
    "from qdrant_client.http.models import PointStruct\n",
    "import numpy as np\n",
    "import random\n",
    "import pandas as pd\n",
    "import time\n",
    "import pickle\n",
    "\n",
    "import utils"
   ]
  },
  {
   "cell_type": "code",
   "execution_count": 2,
   "metadata": {},
   "outputs": [],
   "source": [
    "qdrantClient = QdrantClient(host='localhost', port=6333, timeout=10000000)\n"
   ]
  },
  {
   "cell_type": "code",
   "execution_count": 3,
   "metadata": {},
   "outputs": [],
   "source": [
    "import os\n",
    "from dotenv import load_dotenv\n",
    "load_dotenv()\n",
    "\n",
    "\n",
    "def read_dataset():\n",
    "    load_dotenv()\n",
    "    base_vectors = utils.read_fvecs(os.getenv('BASE_VECTORS_PATH'))\n",
    "    query_vectors = utils.read_fvecs(os.getenv('QUERY_VECTORS_PATH'))\n",
    "    knn_groundtruth = utils.read_ivecs(os.getenv('GROUND_TRUTH_PATH'))\n",
    "    return base_vectors, query_vectors, knn_groundtruth"
   ]
  },
  {
   "cell_type": "code",
   "execution_count": 16,
   "metadata": {},
   "outputs": [
    {
     "data": {
      "text/plain": [
       "True"
      ]
     },
     "execution_count": 16,
     "metadata": {},
     "output_type": "execute_result"
    }
   ],
   "source": [
    "vector_size = 128\n",
    "collection_name = \"testSIFT\"\n",
    "\n",
    "qdrantClient.delete_collection(collection_name=collection_name)\n",
    "\n",
    "qdrantClient.recreate_collection(\n",
    "    collection_name=collection_name,\n",
    "    vectors_config=VectorParams(size=vector_size, distance=Distance.COSINE),\n",
    ")"
   ]
  },
  {
   "cell_type": "code",
   "execution_count": 17,
   "metadata": {},
   "outputs": [
    {
     "name": "stdout",
     "output_type": "stream",
     "text": [
      "Loading file: siftsmall_base.fvecs\n",
      "    The dimension of the vectors in the file is: 128\n",
      "    The final shape of the loaded dataset siftsmall_base.fvecs is (10000, 128).\n",
      "Loading file: siftsmall_query.fvecs\n",
      "    The dimension of the vectors in the file is: 128\n",
      "    The final shape of the loaded dataset siftsmall_query.fvecs is (100, 128).\n",
      " Loading file: siftsmall_groundtruth.ivecs\n",
      "    The dimension of the vectors in the file is: 100\n",
      "    The final shape of the loaded dataset is (100, 100).\n"
     ]
    }
   ],
   "source": [
    "baseV, queryV, _ = read_dataset()\n",
    "# baseV = baseV[:10000]\n",
    "# queryV = queryV[:100]\n",
    "# baseV = pd.DataFrame({'vector': baseV[:10000]})\n",
    "# queryV = pd.DataFrame({'vector': queryV[:100]})\n",
    "with open('ANN_SIFT_COSINE_GT.pkl', 'rb') as f:\n",
    "        groundTruth = pickle.load(f)"
   ]
  },
  {
   "cell_type": "code",
   "execution_count": 18,
   "metadata": {},
   "outputs": [],
   "source": [
    "baseV = [[float(elem) for elem in vector] for vector in baseV]\n",
    "queryV = [[float(elem) for elem in vector] for vector in queryV]"
   ]
  },
  {
   "cell_type": "code",
   "execution_count": 19,
   "metadata": {},
   "outputs": [
    {
     "name": "stdout",
     "output_type": "stream",
     "text": [
      "Number of batches: 1\n",
      "Current progress: 50000/10000\r"
     ]
    }
   ],
   "source": [
    "batch_size = 50000\n",
    "num_batches = len(baseV) // batch_size + int(len(baseV) % batch_size > 0)\n",
    "print(f'Number of batches: {num_batches}')\n",
    "\n",
    "for batch_idx in range(num_batches):\n",
    "    print(f'Current progress: {(batch_idx+1)*batch_size}/{len(baseV)}', end='\\r')\n",
    "    start_idx = batch_idx * batch_size\n",
    "    end_idx = min((batch_idx + 1) * batch_size, len(baseV))\n",
    "\n",
    "    batch_vectors = baseV[start_idx:end_idx]\n",
    "\n",
    "    qdrantClient.upsert(\n",
    "        collection_name=collection_name,\n",
    "        points=models.Batch(\n",
    "            ids=list(range(start_idx, end_idx)),\n",
    "            vectors=batch_vectors\n",
    "        )\n",
    "    )"
   ]
  },
  {
   "cell_type": "code",
   "execution_count": 20,
   "metadata": {},
   "outputs": [
    {
     "name": "stdout",
     "output_type": "stream",
     "text": [
      "Search function starting\n",
      "Search function took 0.2821681499481201 seconds\n"
     ]
    }
   ],
   "source": [
    "print(f'Search function starting')\n",
    "start_time = time.time()\n",
    "result_ids = []\n",
    "for i,elem in enumerate(queryV):\n",
    "    print(f'Progress: {i}/{len(queryV)}', end='\\r')\n",
    "    search_result = qdrantClient.search(\n",
    "        collection_name=collection_name, \n",
    "        query_vector=elem, \n",
    "        limit=100\n",
    "    )\n",
    "    result_ids.append([elem.id for elem in search_result])\n",
    "\n",
    "end_time = time.time()\n",
    "time_span = end_time - start_time\n",
    "print(f'Search function took {end_time - start_time} seconds')"
   ]
  },
  {
   "cell_type": "code",
   "execution_count": 21,
   "metadata": {},
   "outputs": [
    {
     "name": "stdout",
     "output_type": "stream",
     "text": [
      "10000\n",
      "10000\n",
      "QPS = 354.3986\n",
      "Average recall: 1.0\n"
     ]
    }
   ],
   "source": [
    "true_positives = 0\n",
    "n_classified = 0\n",
    "for i,elem in enumerate(result_ids):\n",
    "    true_positives_iter = len(np.intersect1d(groundTruth[i], result_ids[i]))\n",
    "    true_positives += true_positives_iter\n",
    "    n_classified += len(elem)\n",
    "print(true_positives)\n",
    "print(n_classified)\n",
    "print(f'QPS = {(len(queryV) / time_span):.4f}')\n",
    "print(f'Average recall: {true_positives/n_classified}')"
   ]
  }
 ],
 "metadata": {
  "kernelspec": {
   "display_name": "Python 3",
   "language": "python",
   "name": "python3"
  },
  "language_info": {
   "codemirror_mode": {
    "name": "ipython",
    "version": 3
   },
   "file_extension": ".py",
   "mimetype": "text/x-python",
   "name": "python",
   "nbconvert_exporter": "python",
   "pygments_lexer": "ipython3",
   "version": "3.9.6"
  }
 },
 "nbformat": 4,
 "nbformat_minor": 2
}
