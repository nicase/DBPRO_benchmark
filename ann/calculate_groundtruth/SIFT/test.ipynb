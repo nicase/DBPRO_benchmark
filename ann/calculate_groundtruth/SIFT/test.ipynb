{
 "cells": [
  {
   "cell_type": "code",
   "execution_count": 6,
   "metadata": {},
   "outputs": [],
   "source": [
    "from qdrant_client import QdrantClient\n",
    "from qdrant_client.http import models\n",
    "from qdrant_client.http.models import Distance, VectorParams\n",
    "from qdrant_client.http.models import PointStruct\n",
    "import numpy as np\n",
    "import random, time, utils, datetime, csv\n",
    "import pandas as pd\n",
    "import pickle\n",
    "import os\n",
    "from dotenv import load_dotenv\n",
    "\n",
    "\n",
    "def read_dataset():\n",
    "    load_dotenv()\n",
    "    base_vectors = utils.read_fvecs(os.getenv('BASE_VECTORS_PATH'))\n",
    "    query_vectors = utils.read_fvecs(os.getenv('QUERY_VECTORS_PATH'))\n",
    "    knn_groundtruth = utils.read_ivecs(os.getenv('GROUND_TRUTH_PATH'))\n",
    "    return base_vectors, query_vectors, knn_groundtruth"
   ]
  },
  {
   "cell_type": "code",
   "execution_count": 9,
   "metadata": {},
   "outputs": [
    {
     "name": "stdout",
     "output_type": "stream",
     "text": [
      "Loading file: siftsmall_base.fvecs\n",
      "    The dimension of the vectors in the file is: 128\n",
      "    The final shape of the loaded dataset siftsmall_base.fvecs is (10000, 128).\n",
      "Loading file: siftsmall_query.fvecs\n",
      "    The dimension of the vectors in the file is: 128\n",
      "    The final shape of the loaded dataset siftsmall_query.fvecs is (100, 128).\n",
      " Loading file: siftsmall_groundtruth.ivecs\n",
      "    The dimension of the vectors in the file is: 100\n",
      "    The final shape of the loaded dataset is (100, 100).\n"
     ]
    }
   ],
   "source": [
    "baseV, queryV, _ = read_dataset()\n",
    "baseV = pd.DataFrame({'vector': baseV.tolist()})\n",
    "queryV = pd.DataFrame({'vector': queryV.tolist()})\n",
    "\n",
    "\n",
    "truth = utils.top_k_neighbors(queryV, baseV, function=\"dot\")\n",
    "\n",
    "with open('ANN_SIFT_DOT_GT.pkl', 'wb') as file:\n",
    "    pickle.dump(truth, file)"
   ]
  }
 ],
 "metadata": {
  "kernelspec": {
   "display_name": "Python 3",
   "language": "python",
   "name": "python3"
  },
  "language_info": {
   "codemirror_mode": {
    "name": "ipython",
    "version": 3
   },
   "file_extension": ".py",
   "mimetype": "text/x-python",
   "name": "python",
   "nbconvert_exporter": "python",
   "pygments_lexer": "ipython3",
   "version": "3.9.6"
  }
 },
 "nbformat": 4,
 "nbformat_minor": 2
}
