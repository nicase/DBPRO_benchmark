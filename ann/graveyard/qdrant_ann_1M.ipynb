{
 "cells": [
  {
   "cell_type": "code",
   "execution_count": 8,
   "metadata": {},
   "outputs": [],
   "source": [
    "from qdrant_client import QdrantClient\n",
    "from qdrant_client.http import models\n",
    "from qdrant_client.http.models import Distance, VectorParams\n",
    "from qdrant_client.http.models import PointStruct\n",
    "import numpy as np\n",
    "import random\n",
    "import pandas as pd\n",
    "import time\n",
    "\n",
    "\n",
    "import utils"
   ]
  },
  {
   "cell_type": "code",
   "execution_count": 9,
   "metadata": {},
   "outputs": [
    {
     "name": "stdout",
     "output_type": "stream",
     "text": [
      "Loading file: sift_base.fvecs\n",
      "    The dimension of the vectors in the file is: 128\n",
      "    The final shape of the loaded dataset sift_base.fvecs is (1000000, 128).\n",
      "Loading file: sift_query.fvecs\n",
      "    The dimension of the vectors in the file is: 128\n",
      "    The final shape of the loaded dataset sift_query.fvecs is (10000, 128).\n",
      " Loading file: sift_groundtruth.ivecs\n",
      "    The dimension of the vectors in the file is: 100\n",
      "    The final shape of the loaded dataset is (10000, 100).\n"
     ]
    }
   ],
   "source": [
    "qdrantClient = QdrantClient(host='localhost', port=6333, timeout=10000000)\n",
    "# base_vectors = utils.read_fvecs(\"../../dataset/siftsmall/siftsmall_base.fvecs\")\n",
    "# query_vectors = utils.read_fvecs(\"../../dataset/siftsmall/siftsmall_query.fvecs\")\n",
    "# knn_groundtruth = utils.read_ivecs(\"../../dataset/siftsmall/siftsmall_groundtruth.ivecs\")\n",
    "base_vectors = utils.read_fvecs(\"../../dataset/sift/sift_base.fvecs\")\n",
    "query_vectors = utils.read_fvecs(\"../../dataset/sift/sift_query.fvecs\")\n",
    "knn_groundtruth = utils.read_ivecs(\"../../dataset/sift/sift_groundtruth.ivecs\")"
   ]
  },
  {
   "cell_type": "code",
   "execution_count": 10,
   "metadata": {},
   "outputs": [
    {
     "data": {
      "text/plain": [
       "True"
      ]
     },
     "execution_count": 10,
     "metadata": {},
     "output_type": "execute_result"
    }
   ],
   "source": [
    "vector_size = 128\n",
    "collection_name = \"ann_1M\"\n",
    "\n",
    "qdrantClient.delete_collection(collection_name=collection_name)\n",
    "\n",
    "qdrantClient.recreate_collection(\n",
    "    collection_name=collection_name,\n",
    "    vectors_config=VectorParams(size=vector_size, distance=Distance.EUCLID),\n",
    ")"
   ]
  },
  {
   "cell_type": "code",
   "execution_count": 5,
   "metadata": {},
   "outputs": [],
   "source": [
    "# query_vectors = pd.DataFrame({'vector': query_vectors.tolist()})\n",
    "# base_vectors = pd.DataFrame({'vector': base_vectors.tolist()})"
   ]
  },
  {
   "cell_type": "code",
   "execution_count": 11,
   "metadata": {},
   "outputs": [
    {
     "name": "stdout",
     "output_type": "stream",
     "text": [
      "Number of batches: 20\n",
      "Current progress: 1000000/1000000\r"
     ]
    }
   ],
   "source": [
    "batch_size = 50000\n",
    "num_batches = len(base_vectors) // batch_size + int(len(base_vectors) % batch_size > 0)\n",
    "print(f'Number of batches: {num_batches}')\n",
    "\n",
    "for batch_idx in range(num_batches):\n",
    "    print(f'Current progress: {(batch_idx+1)*batch_size}/{len(base_vectors)}', end='\\r')\n",
    "    start_idx = batch_idx * batch_size\n",
    "    end_idx = min((batch_idx + 1) * batch_size, len(base_vectors))\n",
    "\n",
    "    batch_vectors = base_vectors[start_idx:end_idx]\n",
    "\n",
    "    qdrantClient.upsert(\n",
    "        collection_name=collection_name,\n",
    "        points=models.Batch(\n",
    "            ids=list(range(start_idx, end_idx)),\n",
    "            vectors=batch_vectors.tolist()\n",
    "        )\n",
    "    )"
   ]
  },
  {
   "cell_type": "code",
   "execution_count": 20,
   "metadata": {},
   "outputs": [],
   "source": [
    "truth = utils.top_k_neighbors(query_vectors, base_vectors, k=100, function='euclidean', filtering=False) \n"
   ]
  },
  {
   "cell_type": "code",
   "execution_count": 22,
   "metadata": {},
   "outputs": [
    {
     "name": "stdout",
     "output_type": "stream",
     "text": [
      "Search function starting\n",
      "Search function took 43.78459906578064 seconds\n"
     ]
    }
   ],
   "source": [
    "print(f'Search function starting')\n",
    "start_time = time.time()\n",
    "result_ids = []\n",
    "for i,elem in enumerate(query_vectors):\n",
    "    print(f'Progress: {i}/{len(query_vectors)}', end='\\r')\n",
    "    search_result = qdrantClient.search(\n",
    "        collection_name=collection_name, \n",
    "        query_vector=elem, \n",
    "        limit=100\n",
    "    )\n",
    "    result_ids.append([elem.id for elem in search_result])\n",
    "\n",
    "end_time = time.time()\n",
    "time_span = end_time - start_time\n",
    "print(f'Search function took {end_time - start_time} seconds')\n"
   ]
  },
  {
   "cell_type": "code",
   "execution_count": 20,
   "metadata": {},
   "outputs": [
    {
     "data": {
      "text/plain": [
       "10000"
      ]
     },
     "execution_count": 20,
     "metadata": {},
     "output_type": "execute_result"
    }
   ],
   "source": [
    "# np.array(result_ids)\n",
    "# len(np.intersect1d(knn_groundtruth[0], result_ids[0]))\n",
    "len(result_ids)"
   ]
  },
  {
   "cell_type": "code",
   "execution_count": 23,
   "metadata": {},
   "outputs": [
    {
     "name": "stdout",
     "output_type": "stream",
     "text": [
      "983599\n",
      "1000000\n",
      "QPS = 228.3908\n",
      "Average recall: 0.983599\n"
     ]
    }
   ],
   "source": [
    "true_positives = 0\n",
    "n_classified = 0\n",
    "for i,elem in enumerate(result_ids):\n",
    "    true_positives_iter = len(np.intersect1d(knn_groundtruth[i], result_ids[i]))\n",
    "    true_positives += true_positives_iter\n",
    "    n_classified += len(elem)\n",
    "print(true_positives)\n",
    "print(n_classified)\n",
    "print(f'QPS = {(len(query_vectors) / time_span):.4f}')\n",
    "print(f'Average recall: {true_positives/n_classified}')"
   ]
  }
 ],
 "metadata": {
  "kernelspec": {
   "display_name": "Python 3",
   "language": "python",
   "name": "python3"
  },
  "language_info": {
   "codemirror_mode": {
    "name": "ipython",
    "version": 3
   },
   "file_extension": ".py",
   "mimetype": "text/x-python",
   "name": "python",
   "nbconvert_exporter": "python",
   "pygments_lexer": "ipython3",
   "version": "3.9.6"
  }
 },
 "nbformat": 4,
 "nbformat_minor": 2
}
