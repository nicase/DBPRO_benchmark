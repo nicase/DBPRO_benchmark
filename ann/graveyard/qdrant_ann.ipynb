{
 "cells": [
  {
   "cell_type": "code",
   "execution_count": 17,
   "metadata": {},
   "outputs": [],
   "source": [
    "from qdrant_client import QdrantClient\n",
    "from qdrant_client.http import models\n",
    "from qdrant_client.http.models import Distance, VectorParams\n",
    "from qdrant_client.http.models import PointStruct\n",
    "import numpy as np\n",
    "import random\n",
    "import pandas as pd\n",
    "import time\n",
    "\n",
    "\n",
    "import utils"
   ]
  },
  {
   "cell_type": "code",
   "execution_count": 18,
   "metadata": {},
   "outputs": [
    {
     "name": "stdout",
     "output_type": "stream",
     "text": [
      "Loading file: siftsmall_base.fvecs\n",
      "    The dimension of the vectors in the file is: 128\n",
      "    The final shape of the loaded dataset siftsmall_base.fvecs is (10000, 128).\n",
      "Loading file: siftsmall_query.fvecs\n",
      "    The dimension of the vectors in the file is: 128\n",
      "    The final shape of the loaded dataset siftsmall_query.fvecs is (100, 128).\n",
      " Loading file: siftsmall_groundtruth.ivecs\n",
      "    The dimension of the vectors in the file is: 100\n",
      "    The final shape of the loaded dataset is (100, 100).\n"
     ]
    }
   ],
   "source": [
    "qdrantClient = QdrantClient(host='localhost', port=6333)\n",
    "base_vectors = utils.read_fvecs(\"../../dataset/siftsmall/siftsmall_base.fvecs\")\n",
    "query_vectors = utils.read_fvecs(\"../../dataset/siftsmall/siftsmall_query.fvecs\")\n",
    "knn_groundtruth = utils.read_ivecs(\"../../dataset/siftsmall/siftsmall_groundtruth.ivecs\")"
   ]
  },
  {
   "cell_type": "code",
   "execution_count": 19,
   "metadata": {},
   "outputs": [
    {
     "data": {
      "text/plain": [
       "True"
      ]
     },
     "execution_count": 19,
     "metadata": {},
     "output_type": "execute_result"
    }
   ],
   "source": [
    "vector_size = 128\n",
    "collection_name = \"ann\"\n",
    "\n",
    "qdrantClient.delete_collection(collection_name=collection_name)\n",
    "\n",
    "qdrantClient.recreate_collection(\n",
    "    collection_name=collection_name,\n",
    "    hnsw_config=models.HnswConfigDiff(\n",
    "        m=32,\n",
    "        ef_construct=200\n",
    "    ),\n",
    "    vectors_config=VectorParams(size=vector_size, distance=Distance.EUCLID),\n",
    ")"
   ]
  },
  {
   "cell_type": "code",
   "execution_count": 20,
   "metadata": {},
   "outputs": [],
   "source": [
    "query_vectors = pd.DataFrame({'vector': query_vectors.tolist()})\n",
    "base_vectors = pd.DataFrame({'vector': base_vectors.tolist()})\n"
   ]
  },
  {
   "cell_type": "code",
   "execution_count": 21,
   "metadata": {},
   "outputs": [
    {
     "name": "stdout",
     "output_type": "stream",
     "text": [
      "operation_id=0 status=<UpdateStatus.COMPLETED: 'completed'>\n"
     ]
    }
   ],
   "source": [
    "batch_points = [PointStruct(id=i, vector=elem[\"vector\"]) for i, elem in base_vectors.iterrows()]\n",
    "\n",
    "operation_info = qdrantClient.upsert(\n",
    "    collection_name=collection_name,\n",
    "    wait=True,\n",
    "    points=batch_points\n",
    ")\n",
    "print(operation_info)"
   ]
  },
  {
   "cell_type": "code",
   "execution_count": 22,
   "metadata": {},
   "outputs": [
    {
     "data": {
      "text/plain": [
       "[array([2176, 3752,  882, 4009, 2837,  190, 3615,  816, 1045, 1884]),\n",
       " array([2781, 9574, 2492, 1322, 3136, 1038, 9564,  925, 3998, 2183]),\n",
       " array([2707, 9938, 2698, 9972, 6995, 6801, 8906, 5232, 6162, 5199]),\n",
       " array([9843, 9825, 9574, 9582, 4097, 9576, 9581,  272, 9575, 4096]),\n",
       " array([4719, 5164, 1671, 1538, 5897, 4764, 4559,  358, 5775, 4622]),\n",
       " array([1097, 1239, 4943, 3227,  804, 2607, 4060, 4443, 4246, 3112]),\n",
       " array([2456, 3013, 1682, 8581, 2774, 3530,  924, 2732, 9701, 1916]),\n",
       " array([5447, 5868, 3109, 5671, 4597, 7586, 2804, 9394, 2735, 6639]),\n",
       " array([9628, 3382, 7828, 1098, 4391, 8518, 3912, 5002,   73, 8441]),\n",
       " array([4764, 4719, 5609, 9013, 1538,  688, 7885, 7642, 1671, 7123]),\n",
       " array([1218,  645,  693,  804,  496, 6946,  281, 4060, 8027, 4370]),\n",
       " array([4697, 4762, 8566, 4726, 6489, 1359, 4640, 1526, 9095, 4739]),\n",
       " array([2113,  130,  506,  128, 9692, 1362, 9581,  120, 2128,  483]),\n",
       " array([3609, 9815, 9574, 1564, 9663,  924, 1531, 9860, 9602, 5623]),\n",
       " array([ 797,  714,   69, 1019, 1881,  906, 2771, 4151, 7744, 3239]),\n",
       " array([5326,  409, 3818, 9747, 1892, 2483, 5775, 5091, 3325,    2]),\n",
       " array([3829, 9713, 9595, 8547, 2578,  319, 1517, 1986,  470,  262]),\n",
       " array([4096, 3138, 1292, 9629, 9805,  133,  107, 1370, 1151, 1323]),\n",
       " array([ 903,  872, 1791, 1638, 2393,  891, 1421,  307,  142,  116]),\n",
       " array([1699, 9806, 9576,  107,  144, 2176, 4007,  122, 3137,  411]),\n",
       " array([7462, 7217, 7027, 5557, 6757, 7419, 9067, 7931, 4760, 9311]),\n",
       " array([4490, 4457, 9102, 4915, 8047, 9600, 8720, 5047, 4671, 9473]),\n",
       " array([4957, 4784, 5408, 5525, 5718, 4679, 4739,  105, 5085, 5652]),\n",
       " array([8335, 7905, 7123, 7849, 7817, 4724, 4476, 8145, 5208, 5758]),\n",
       " array([4630, 4554, 4623,  652, 5302, 9208, 4915, 9792, 1010,  705]),\n",
       " array([5300, 5947, 6422, 3011,  268, 8663, 3006,  153, 5407, 8912]),\n",
       " array([9899, 6827, 4492, 4683, 5406, 4461, 8502, 4630, 1965, 7263]),\n",
       " array([5963, 5865, 6161, 5969, 8926, 5407, 5736, 5179, 4839, 4783]),\n",
       " array([4472, 4461, 8189, 6827, 5541, 7039, 5477, 7805, 4492, 5879]),\n",
       " array([5453, 5232, 5195, 6162, 6406, 5216, 6428, 6487, 6125, 6805]),\n",
       " array([5207, 7637, 8549, 1649, 1020, 4777, 5938, 5380,  116,  434]),\n",
       " array([5559, 4995, 4962, 5330, 4870, 4318,  431,  581, 5013, 1483]),\n",
       " array([5300, 5407, 4956, 4783, 6030, 8663, 6508,  153, 6338, 8779]),\n",
       " array([7277, 3933, 9055, 8150, 8530,  687, 1193, 9200, 8293, 2201]),\n",
       " array([7058, 8862, 6346, 5715, 5902, 3049, 1965, 4941, 8468, 6800]),\n",
       " array([5841, 5866, 6707, 5376, 1884, 3364, 4271, 8535, 1605, 2139]),\n",
       " array([5842, 5867, 6708, 4272, 8534, 4314, 5377, 1254, 2755, 2607]),\n",
       " array([5184, 4997, 8144, 7936, 2841, 6178, 3271, 6465, 7707, 3809]),\n",
       " array([5023, 5500, 5177, 6187, 5341, 1320, 3565, 2519, 5522,  220]),\n",
       " array([4677, 5074, 7002, 9841, 7218, 9721, 4692, 4107, 2891, 6883]),\n",
       " array([8307, 4773, 4867, 5214, 5163, 3206, 8409, 7024, 1420, 2221]),\n",
       " array([4643, 7391, 4564,  440,  560,  859, 9344, 4771, 9169, 6614]),\n",
       " array([5224, 8105, 7135, 4390, 1464, 6867, 3911, 2460, 9920,  416]),\n",
       " array([6302, 5144, 4978, 6416, 6933, 5219, 5176, 5029, 5587, 6801]),\n",
       " array([5428,  468, 5930, 7249,  322, 8615, 5358, 5148, 7891, 6212]),\n",
       " array([8979, 5560, 6085, 4996, 4460, 1277, 8712, 2640, 6754, 5713]),\n",
       " array([5880, 9669, 8997, 8218, 8259, 9000, 7851, 5857, 1389, 9160]),\n",
       " array([5641, 3948, 6707, 2890, 3292, 1757, 3009, 5866, 1884, 4373]),\n",
       " array([5213, 5750, 5772, 5437,  976, 5228, 6578,  512, 7648, 1579]),\n",
       " array([5084, 5138, 4742,  168, 4743,  113, 5596, 4827, 6827, 6400]),\n",
       " array([5653, 5012, 6627, 8060, 5110, 3846, 7994, 8339, 4995, 8557]),\n",
       " array([6123, 6192, 6343, 6703, 2591, 2611, 7418, 9841, 7932, 9997]),\n",
       " array([5673, 8480, 2385, 2256, 6455, 7145, 1002, 8906, 6478, 4357]),\n",
       " array([8612, 2640, 5997, 1321,   92, 5120,  221, 4711, 5642, 6679]),\n",
       " array([6158, 6167, 4798, 6709, 6983, 6676, 7177, 6458, 6283, 6678]),\n",
       " array([5830, 6004, 5499, 5115, 5999, 7228, 7226, 5987, 8603, 6252]),\n",
       " array([4903, 5978, 4730, 4484, 4678, 7641, 1524, 5431, 8215, 9096]),\n",
       " array([5211, 5284, 5637, 7374, 9922, 9778,  448, 2650, 8809, 1626]),\n",
       " array([7237, 7024, 7700, 9958, 7287, 8348, 7653, 3804, 8551,   33]),\n",
       " array([6834, 6316, 6612, 6648, 7171, 6376, 6692, 6798, 6720, 8674]),\n",
       " array([5278, 4472, 4490, 4457, 6930, 4461, 9547, 8720, 9524, 5879]),\n",
       " array([8402, 8564, 6354, 8906, 1890, 9938, 2481, 3816, 2621, 4914]),\n",
       " array([6560, 7269, 6911, 6202, 6268, 6898, 6371, 7675, 6248, 7963]),\n",
       " array([6321, 6413, 5989, 7094, 6440, 5863, 5167, 7167, 5327, 5310]),\n",
       " array([5635, 5440, 6937, 9058, 7082, 5545, 6905, 7004, 7960, 9314]),\n",
       " array([6405, 5504, 6022, 6712,  798, 9224, 4579, 7600, 5658, 8201]),\n",
       " array([5390, 5669, 7346, 7758, 5242, 7159, 7338, 3264, 7082, 5464]),\n",
       " array([6857, 8162, 7881, 8279, 6638, 6018, 5743, 9033, 7536, 4649]),\n",
       " array([5199, 1478, 9893, 5073,  603, 9845, 7217, 7462, 8051, 4225]),\n",
       " array([5877, 3049, 6214, 3368, 7058, 9719, 5902, 5715, 4511, 3541]),\n",
       " array([6124, 6430, 5912, 6804, 7486, 7765, 6163, 5196, 5454, 5487]),\n",
       " array([5826, 5885, 5155, 7157, 6342, 9945, 7081, 5634, 9057, 9797]),\n",
       " array([6609,  933, 9769, 4315, 3953, 5246, 3593, 5296, 7601, 4874]),\n",
       " array([6853, 2771, 4240, 3239, 3802, 7744, 1881, 2453, 1875, 3487]),\n",
       " array([7364, 5541, 9547, 2085, 8190, 9546, 9561, 8189, 9617, 9527]),\n",
       " array([6553, 7616, 1234, 6297, 2726, 8996, 5496, 4881, 9796, 8883]),\n",
       " array([7903, 7367, 2805, 1236, 3108, 2104, 3680, 1390, 8166, 9037]),\n",
       " array([8578, 8275, 5332, 9153, 2092, 3290, 2010, 8004, 2949, 9190]),\n",
       " array([9208, 9792, 4623, 9464, 8894, 1562, 4736, 4888, 7117, 8230]),\n",
       " array([6070, 8069, 5967, 8486, 7489, 7080, 5952, 7280, 6646, 7076]),\n",
       " array([7451, 7188, 7742, 7587, 6345, 9250, 7855, 7254, 4649, 1665]),\n",
       " array([3086, 6408, 4951, 5088, 1548, 3766, 6131, 4218, 5102, 5436]),\n",
       " array([9164,   51,  390,   90,   64,  273, 5571, 1133, 8783,  775]),\n",
       " array([6005, 6778, 8480, 5051, 7943, 1478, 8047, 6382, 5288, 8890]),\n",
       " array([8894, 2467, 9464, 5121, 5879, 3403, 1562, 9208, 6109, 9530]),\n",
       " array([8354, 8725, 6144, 7927, 7584, 7019, 5887, 6254, 4232, 6425]),\n",
       " array([9151, 5743, 6750, 6843, 5474, 5690, 6587, 7325, 9037, 8162]),\n",
       " array([7722, 5690, 8011, 6587, 8734, 6140, 7296, 7707, 5415, 9151]),\n",
       " array([7098, 6901, 8899, 7065, 9224, 8103, 6326, 6369, 8201, 5901]),\n",
       " array([7627, 7118, 6079, 6245, 5507, 7265, 2497, 6831, 9079, 5764]),\n",
       " array([9258, 9417, 6491, 4855,  103, 4678, 5526,  204, 4645, 5002]),\n",
       " array([8896, 9993, 3937,  763, 9240, 9085, 6453, 7924, 8197, 6269]),\n",
       " array([8356, 7797,  956,  908,  580, 4832, 1567, 4684, 1059, 2956]),\n",
       " array([8978, 1088, 5433, 7218, 7463, 7344, 7167, 6785, 6137, 1661]),\n",
       " array([8419, 8099, 7678, 7486, 8608, 8492, 6804, 7411, 9267, 4053]),\n",
       " array([9205, 1185, 9682, 7271, 2265, 3055, 1130,  349, 2318,  925]),\n",
       " array([7512, 5332, 7939,  266, 2126, 4867, 3206, 2728, 2949, 8307]),\n",
       " array([8825, 9081, 6142, 5072, 6234, 7467, 6926, 8102, 5134, 8471]),\n",
       " array([5460, 5439, 5810, 6882, 5773, 6906, 5924, 6745, 7419, 6047]),\n",
       " array([8082, 8782, 4767, 9163, 9942, 9993, 9240, 2894, 9338, 9846])]"
      ]
     },
     "execution_count": 22,
     "metadata": {},
     "output_type": "execute_result"
    }
   ],
   "source": [
    "truth = utils.top_k_neighbors(query_vectors, base_vectors, k=10, function='euclidean', filtering=False) \n",
    "truth"
   ]
  },
  {
   "cell_type": "code",
   "execution_count": 7,
   "metadata": {},
   "outputs": [
    {
     "data": {
      "text/plain": [
       "10"
      ]
     },
     "execution_count": 7,
     "metadata": {},
     "output_type": "execute_result"
    }
   ],
   "source": [
    "len(truth[0])"
   ]
  },
  {
   "cell_type": "code",
   "execution_count": 21,
   "metadata": {},
   "outputs": [
    {
     "data": {
      "text/plain": [
       "array([[2176, 3752,  882, ...,  348, 3043, 3687],\n",
       "       [2781, 9574, 2492, ..., 3849, 2905, 4102],\n",
       "       [2707, 9938, 2698, ..., 1251, 8564, 8173],\n",
       "       ...,\n",
       "       [8825, 9081, 6142, ..., 8178, 5887, 4565],\n",
       "       [5460, 5439, 5810, ..., 5199, 7483, 5232],\n",
       "       [8082, 8782, 4767, ...,   11, 2482, 3631]], dtype=int32)"
      ]
     },
     "execution_count": 21,
     "metadata": {},
     "output_type": "execute_result"
    }
   ],
   "source": [
    "knn_groundtruth"
   ]
  },
  {
   "cell_type": "code",
   "execution_count": 10,
   "metadata": {},
   "outputs": [
    {
     "data": {
      "text/plain": [
       "array([ 190,  816,  882, 1045, 1884, 2176, 2837, 3615, 3752, 4009])"
      ]
     },
     "execution_count": 10,
     "metadata": {},
     "output_type": "execute_result"
    }
   ],
   "source": [
    "np.intersect1d(truth[0], knn_groundtruth[0][:10])"
   ]
  },
  {
   "cell_type": "code",
   "execution_count": 25,
   "metadata": {},
   "outputs": [
    {
     "data": {
      "text/html": [
       "<div>\n",
       "<style scoped>\n",
       "    .dataframe tbody tr th:only-of-type {\n",
       "        vertical-align: middle;\n",
       "    }\n",
       "\n",
       "    .dataframe tbody tr th {\n",
       "        vertical-align: top;\n",
       "    }\n",
       "\n",
       "    .dataframe thead th {\n",
       "        text-align: right;\n",
       "    }\n",
       "</style>\n",
       "<table border=\"1\" class=\"dataframe\">\n",
       "  <thead>\n",
       "    <tr style=\"text-align: right;\">\n",
       "      <th></th>\n",
       "      <th>vector</th>\n",
       "    </tr>\n",
       "  </thead>\n",
       "  <tbody>\n",
       "    <tr>\n",
       "      <th>0</th>\n",
       "      <td>[1.0, 3.0, 11.0, 110.0, 62.0, 22.0, 4.0, 0.0, ...</td>\n",
       "    </tr>\n",
       "    <tr>\n",
       "      <th>1</th>\n",
       "      <td>[40.0, 25.0, 11.0, 0.0, 22.0, 31.0, 6.0, 8.0, ...</td>\n",
       "    </tr>\n",
       "    <tr>\n",
       "      <th>2</th>\n",
       "      <td>[28.0, 4.0, 3.0, 6.0, 7.0, 2.0, 2.0, 18.0, 19....</td>\n",
       "    </tr>\n",
       "    <tr>\n",
       "      <th>3</th>\n",
       "      <td>[24.0, 12.0, 14.0, 8.0, 3.0, 12.0, 4.0, 8.0, 8...</td>\n",
       "    </tr>\n",
       "    <tr>\n",
       "      <th>4</th>\n",
       "      <td>[0.0, 4.0, 47.0, 20.0, 9.0, 2.0, 1.0, 0.0, 41....</td>\n",
       "    </tr>\n",
       "    <tr>\n",
       "      <th>...</th>\n",
       "      <td>...</td>\n",
       "    </tr>\n",
       "    <tr>\n",
       "      <th>95</th>\n",
       "      <td>[60.0, 70.0, 39.0, 33.0, 26.0, 4.0, 0.0, 0.0, ...</td>\n",
       "    </tr>\n",
       "    <tr>\n",
       "      <th>96</th>\n",
       "      <td>[13.0, 7.0, 4.0, 27.0, 2.0, 0.0, 3.0, 19.0, 91...</td>\n",
       "    </tr>\n",
       "    <tr>\n",
       "      <th>97</th>\n",
       "      <td>[14.0, 8.0, 0.0, 0.0, 3.0, 49.0, 22.0, 8.0, 39...</td>\n",
       "    </tr>\n",
       "    <tr>\n",
       "      <th>98</th>\n",
       "      <td>[11.0, 48.0, 10.0, 0.0, 0.0, 0.0, 0.0, 1.0, 2....</td>\n",
       "    </tr>\n",
       "    <tr>\n",
       "      <th>99</th>\n",
       "      <td>[4.0, 10.0, 5.0, 90.0, 67.0, 6.0, 4.0, 3.0, 11...</td>\n",
       "    </tr>\n",
       "  </tbody>\n",
       "</table>\n",
       "<p>100 rows × 1 columns</p>\n",
       "</div>"
      ],
      "text/plain": [
       "                                               vector\n",
       "0   [1.0, 3.0, 11.0, 110.0, 62.0, 22.0, 4.0, 0.0, ...\n",
       "1   [40.0, 25.0, 11.0, 0.0, 22.0, 31.0, 6.0, 8.0, ...\n",
       "2   [28.0, 4.0, 3.0, 6.0, 7.0, 2.0, 2.0, 18.0, 19....\n",
       "3   [24.0, 12.0, 14.0, 8.0, 3.0, 12.0, 4.0, 8.0, 8...\n",
       "4   [0.0, 4.0, 47.0, 20.0, 9.0, 2.0, 1.0, 0.0, 41....\n",
       "..                                                ...\n",
       "95  [60.0, 70.0, 39.0, 33.0, 26.0, 4.0, 0.0, 0.0, ...\n",
       "96  [13.0, 7.0, 4.0, 27.0, 2.0, 0.0, 3.0, 19.0, 91...\n",
       "97  [14.0, 8.0, 0.0, 0.0, 3.0, 49.0, 22.0, 8.0, 39...\n",
       "98  [11.0, 48.0, 10.0, 0.0, 0.0, 0.0, 0.0, 1.0, 2....\n",
       "99  [4.0, 10.0, 5.0, 90.0, 67.0, 6.0, 4.0, 3.0, 11...\n",
       "\n",
       "[100 rows x 1 columns]"
      ]
     },
     "execution_count": 25,
     "metadata": {},
     "output_type": "execute_result"
    }
   ],
   "source": [
    "query_vectors"
   ]
  },
  {
   "cell_type": "code",
   "execution_count": 28,
   "metadata": {},
   "outputs": [
    {
     "name": "stdout",
     "output_type": "stream",
     "text": [
      "Search function starting\n",
      "Search function took 0.3360719680786133 seconds\n"
     ]
    }
   ],
   "source": [
    "print(f'Search function starting')\n",
    "start_time = time.time()\n",
    "result_ids = []\n",
    "for _,elem in query_vectors.iterrows():\n",
    "    vec = elem[\"vector\"]\n",
    "    search_result = qdrantClient.search(\n",
    "        collection_name=collection_name,\n",
    "        search_params=models.SearchParams(\n",
    "            hnsw_ef=256,\n",
    "            exact=False\n",
    "        ), \n",
    "        query_vector=vec, \n",
    "        limit=10\n",
    "    )\n",
    "    result_ids.append([elem.id for elem in search_result])\n",
    "\n",
    "end_time = time.time()\n",
    "time_span = end_time - start_time\n",
    "print(f'Search function took {end_time - start_time} seconds')\n"
   ]
  },
  {
   "cell_type": "code",
   "execution_count": 18,
   "metadata": {},
   "outputs": [
    {
     "name": "stdout",
     "output_type": "stream",
     "text": [
      "QPS = 453.7601\n",
      "Average recall: 1.0\n"
     ]
    }
   ],
   "source": [
    "true_positives = 0\n",
    "n_classified = 0\n",
    "for i,elem in enumerate(result_ids):\n",
    "    true_positives_iter = len(np.intersect1d(truth[i], elem))\n",
    "    true_positives += true_positives_iter\n",
    "    n_classified += len(elem)\n",
    "\n",
    "print(f'QPS = {(len(query_vectors) / time_span):.4f}')\n",
    "print(f'Average recall: {true_positives/n_classified}')"
   ]
  }
 ],
 "metadata": {
  "kernelspec": {
   "display_name": "Python 3",
   "language": "python",
   "name": "python3"
  },
  "language_info": {
   "codemirror_mode": {
    "name": "ipython",
    "version": 3
   },
   "file_extension": ".py",
   "mimetype": "text/x-python",
   "name": "python",
   "nbconvert_exporter": "python",
   "pygments_lexer": "ipython3",
   "version": "3.9.6"
  }
 },
 "nbformat": 4,
 "nbformat_minor": 2
}
