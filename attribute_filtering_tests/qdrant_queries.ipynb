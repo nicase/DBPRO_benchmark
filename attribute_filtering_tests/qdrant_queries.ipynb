{
 "cells": [
  {
   "cell_type": "markdown",
   "metadata": {},
   "source": [
    "Connect client\n"
   ]
  },
  {
   "cell_type": "code",
   "execution_count": 25,
   "metadata": {},
   "outputs": [],
   "source": [
    "from qdrant_client import QdrantClient\n",
    "from qdrant_client.http import models\n",
    "from qdrant_client.http.models import Distance, VectorParams\n",
    "from qdrant_client.http.models import PointStruct\n",
    "\n",
    "from fastembed.embedding import DefaultEmbedding\n",
    "import utils\n",
    "# import numpy as np\n",
    "# CONNECT TO CLIENT (FIRST RUN CONTAINER AT PORT 6333)\n",
    "qdrantClient = QdrantClient(host='localhost', port=6333)"
   ]
  },
  {
   "cell_type": "code",
   "execution_count": null,
   "metadata": {},
   "outputs": [],
   "source": [
    "base_vectors = utils.read_fvecs(\"../../dataset/siftsmall/siftsmall_base.fvecs\")\n",
    "query_vectors = utils.read_fvecs(\"../../dataset/siftsmall/siftsmall_query.fvecs\")\n",
    "knn_groundtruth = utils.read_ivecs(\"../../dataset/siftsmall/siftsmall_groundtruth.ivecs\")"
   ]
  },
  {
   "cell_type": "code",
   "execution_count": 57,
   "metadata": {},
   "outputs": [
    {
     "data": {
      "text/plain": [
       "True"
      ]
     },
     "execution_count": 57,
     "metadata": {},
     "output_type": "execute_result"
    }
   ],
   "source": [
    "vector_size = 128\n",
    "collection_name = \"test_collection\"\n",
    "\n",
    "qdrantClient.delete_collection(collection_name=collection_name)\n",
    "\n",
    "qdrantClient.recreate_collection(\n",
    "    collection_name=collection_name,\n",
    "    vectors_config=VectorParams(size=vector_size, distance=Distance.EUCLID),\n",
    ")\n"
   ]
  },
  {
   "cell_type": "markdown",
   "metadata": {},
   "source": [
    "Fill database with base vectors (10K now)"
   ]
  },
  {
   "cell_type": "code",
   "execution_count": 58,
   "metadata": {},
   "outputs": [
    {
     "name": "stdout",
     "output_type": "stream",
     "text": [
      "operation_id=0 status=<UpdateStatus.COMPLETED: 'completed'>\n"
     ]
    }
   ],
   "source": [
    "batch_points = [PointStruct(id=i, vector=elem) for i, elem in enumerate(base_vectors)]\n",
    "\n",
    "\n",
    "# Upload the batch\n",
    "operation_info = qdrantClient.upsert(\n",
    "    collection_name=collection_name,\n",
    "    wait=True,\n",
    "    points=batch_points\n",
    ")\n",
    "print(operation_info)"
   ]
  },
  {
   "cell_type": "markdown",
   "metadata": {},
   "source": [
    "now look for the knn (k=100 bc its what the ground truth contains)"
   ]
  },
  {
   "cell_type": "code",
   "execution_count": 31,
   "metadata": {},
   "outputs": [
    {
     "name": "stdout",
     "output_type": "stream",
     "text": [
      "[  1.   3.  11. 110.  62.  22.   4.   0.  43.  21.  22.  18.   6.  28.\n",
      "  64.   9.  11.   1.   0.   0.   1.  40. 101.  21.  20.   2.   4.   2.\n",
      "   2.   9.  18.  35.   1.   1.   7.  25. 108. 116.  63.   2.   0.   0.\n",
      "  11.  74.  40. 101. 116.   3.  33.   1.   1.  11.  14.  18. 116. 116.\n",
      "  68.  12.   5.   4.   2.   2.   9. 102.  17.   3.  10.  18.   8.  15.\n",
      "  67.  63.  15.   0.  14. 116.  80.   0.   2.  22.  96.  37.  28.  88.\n",
      "  43.   1.   4.  18. 116.  51.   5.  11.  32.  14.   8.  23.  44.  17.\n",
      "  12.   9.   0.   0.  19.  37.  85.  18.  16. 104.  22.   6.   2.  26.\n",
      "  12.  58.  67.  82.  25.  12.   2.   2.  25.  18.   8.   2.  19.  42.\n",
      "  48.  11.]\n"
     ]
    }
   ],
   "source": [
    "for elem in query_vectors:\n",
    "    print(elem)\n",
    "    break"
   ]
  },
  {
   "cell_type": "code",
   "execution_count": 47,
   "metadata": {},
   "outputs": [
    {
     "data": {
      "text/plain": [
       "array([2176, 3752,  882, 4009, 2837,  190, 3615,  816, 1045, 1884,  224,\n",
       "       3013,  292, 1272, 5307, 4938, 1295,  492, 9211, 3625, 1254, 1292,\n",
       "       1625, 3553, 1156,  146,  107, 5231, 1995, 9541, 3543, 9758, 9806,\n",
       "       1064, 9701, 4064, 2456, 2763, 3237, 1317, 3530,  641, 1710, 8887,\n",
       "       4263, 1756,  598,  370, 2776,  121, 4058, 7245, 1895,  124, 8731,\n",
       "        696, 4320, 4527, 4050, 2648, 1682, 2154, 1689, 2436, 2005, 3210,\n",
       "       4002, 2774,  924, 6630, 3449, 9814, 3515, 5375,  287, 1038, 4096,\n",
       "       4094,  942, 4321,  123, 3814,   97, 4293,  420, 9734, 1916, 2791,\n",
       "        149, 6139, 9576, 6837, 2952, 3138, 2890, 3066, 2852,  348, 3043,\n",
       "       3687], dtype=int32)"
      ]
     },
     "execution_count": 47,
     "metadata": {},
     "output_type": "execute_result"
    }
   ],
   "source": [
    "knn_groundtruth[0]"
   ]
  },
  {
   "cell_type": "code",
   "execution_count": 59,
   "metadata": {},
   "outputs": [],
   "source": [
    "for vec in query_vectors:\n",
    "    search_result = qdrantClient.search(\n",
    "        collection_name=\"test_collection\", query_vector=[0.0 for _ in range(vector_size)], limit=100\n",
    "    )\n",
    "    break\n",
    "\n",
    "\n"
   ]
  },
  {
   "cell_type": "code",
   "execution_count": 62,
   "metadata": {},
   "outputs": [
    {
     "data": {
      "text/plain": [
       "array([4527], dtype=int32)"
      ]
     },
     "execution_count": 62,
     "metadata": {},
     "output_type": "execute_result"
    }
   ],
   "source": [
    "import numpy as np\n",
    "\n",
    "res = [elem.id for elem in search_result]\n",
    "res = np.array(res, dtype=np.int32)\n",
    "\n",
    "intersection = np.intersect1d(knn_groundtruth[0], res)\n",
    "intersection"
   ]
  },
  {
   "cell_type": "code",
   "execution_count": 63,
   "metadata": {},
   "outputs": [
    {
     "data": {
      "text/plain": [
       "array([3983, 3614, 3060, 5176, 3830, 1764, 5220, 3583, 7095, 3304, 4029,\n",
       "        699, 4329, 4527, 3717, 4295, 1443, 5247, 1163, 9212, 2092, 2582,\n",
       "       2765, 3672, 4145, 1962, 4977, 5296, 4332, 3592, 4088, 4127, 7293,\n",
       "       2909, 3096, 7796, 7464, 1932, 1897, 6934, 3948, 7235, 8642, 7575,\n",
       "       1976, 5229, 1524, 1164, 9365, 2639, 2329, 9389, 6449, 1422, 4228,\n",
       "       4319, 6450,   73, 6238, 3247, 2388, 5141, 2114,  829, 4028, 5994,\n",
       "       2583, 1602, 4976, 1314, 4280, 4104, 4314, 3061, 2779, 1703, 4300,\n",
       "       2539, 1462, 6651, 3933, 2597,  408, 1544, 7023, 3522, 2080,  660,\n",
       "       3203,  411, 1421, 5980, 6030, 2234, 9979, 2944, 6585, 1753, 3372,\n",
       "       3051], dtype=int32)"
      ]
     },
     "execution_count": 63,
     "metadata": {},
     "output_type": "execute_result"
    }
   ],
   "source": [
    "res"
   ]
  },
  {
   "cell_type": "code",
   "execution_count": 52,
   "metadata": {},
   "outputs": [],
   "source": [
    "import numpy as np\n",
    "\n",
    "\n",
    "def euclidean_distance(query_vector, base_vectors):\n",
    "    # Calculate Euclidean distances between query_vector and all base_vectors\n",
    "    distances = np.sqrt(np.sum((base_vectors - query_vector) ** 2, axis=1))\n",
    "    return distances\n",
    "\n",
    "def top_k_neighbors(query_vectors, base_vectors, k=100):\n",
    "    top_k_indices = []\n",
    "    for query_vector in query_vectors:\n",
    "        # Calculate Euclidean distances for each query vector\n",
    "        distances = euclidean_distance(query_vector, base_vectors)\n",
    "        \n",
    "        # Find the indices of the k smallest distances\n",
    "        k_indices = np.argsort(distances)[:k]\n",
    "        top_k_indices.append(k_indices)\n",
    "    \n",
    "    return np.array(top_k_indices)"
   ]
  },
  {
   "cell_type": "code",
   "execution_count": 64,
   "metadata": {},
   "outputs": [],
   "source": [
    "knn_indices = top_k_neighbors(query_vectors, base_vectors, k=100)\n"
   ]
  },
  {
   "cell_type": "code",
   "execution_count": 66,
   "metadata": {},
   "outputs": [
    {
     "data": {
      "text/plain": [
       "1"
      ]
     },
     "execution_count": 66,
     "metadata": {},
     "output_type": "execute_result"
    }
   ],
   "source": [
    "intersection = np.intersect1d(knn_indices[0], res)\n",
    "len(intersection)"
   ]
  }
 ],
 "metadata": {
  "kernelspec": {
   "display_name": "Python 3",
   "language": "python",
   "name": "python3"
  },
  "language_info": {
   "codemirror_mode": {
    "name": "ipython",
    "version": 3
   },
   "file_extension": ".py",
   "mimetype": "text/x-python",
   "name": "python",
   "nbconvert_exporter": "python",
   "pygments_lexer": "ipython3",
   "version": "3.9.6"
  }
 },
 "nbformat": 4,
 "nbformat_minor": 2
}
