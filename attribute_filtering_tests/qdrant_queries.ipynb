{
 "cells": [
  {
   "cell_type": "markdown",
   "metadata": {},
   "source": [
    "Connect client\n"
   ]
  },
  {
   "cell_type": "code",
   "execution_count": 19,
   "metadata": {},
   "outputs": [],
   "source": [
    "from qdrant_client import QdrantClient\n",
    "from qdrant_client.http import models\n",
    "from qdrant_client.http.models import Distance, VectorParams\n",
    "from qdrant_client.http.models import PointStruct\n",
    "import numpy as np\n",
    "\n",
    "\n",
    "from fastembed.embedding import DefaultEmbedding\n",
    "import utils\n",
    "# import numpy as np\n",
    "# CONNECT TO CLIENT (FIRST RUN CONTAINER AT PORT 6333)\n",
    "qdrantClient = QdrantClient(host='localhost', port=6333)"
   ]
  },
  {
   "cell_type": "code",
   "execution_count": 20,
   "metadata": {},
   "outputs": [
    {
     "name": "stdout",
     "output_type": "stream",
     "text": [
      "Loading file: siftsmall_base.fvecs\n",
      "    The dimension of the vectors in the file is: 128\n",
      "    The final shape of the loaded dataset siftsmall_base.fvecs is (10000, 128).\n",
      "Loading file: siftsmall_query.fvecs\n",
      "    The dimension of the vectors in the file is: 128\n",
      "    The final shape of the loaded dataset siftsmall_query.fvecs is (100, 128).\n",
      " Loading file: siftsmall_groundtruth.ivecs\n",
      "    The dimension of the vectors in the file is: 100\n",
      "    The final shape of the loaded dataset is (100, 100).\n"
     ]
    }
   ],
   "source": [
    "base_vectors = utils.read_fvecs(\"../../dataset/siftsmall/siftsmall_base.fvecs\")\n",
    "query_vectors = utils.read_fvecs(\"../../dataset/siftsmall/siftsmall_query.fvecs\")\n",
    "knn_groundtruth = utils.read_ivecs(\"../../dataset/siftsmall/siftsmall_groundtruth.ivecs\")"
   ]
  },
  {
   "cell_type": "code",
   "execution_count": 21,
   "metadata": {},
   "outputs": [
    {
     "data": {
      "text/plain": [
       "True"
      ]
     },
     "execution_count": 21,
     "metadata": {},
     "output_type": "execute_result"
    }
   ],
   "source": [
    "vector_size = 128\n",
    "collection_name = \"test_collection\"\n",
    "\n",
    "qdrantClient.delete_collection(collection_name=collection_name)\n",
    "\n",
    "qdrantClient.recreate_collection(\n",
    "    collection_name=collection_name,\n",
    "    vectors_config=VectorParams(size=vector_size, distance=Distance.EUCLID),\n",
    ")\n"
   ]
  },
  {
   "cell_type": "markdown",
   "metadata": {},
   "source": [
    "Fill database with base vectors (10K now)"
   ]
  },
  {
   "cell_type": "code",
   "execution_count": 23,
   "metadata": {},
   "outputs": [
    {
     "name": "stdout",
     "output_type": "stream",
     "text": [
      "operation_id=1 status=<UpdateStatus.COMPLETED: 'completed'>\n"
     ]
    }
   ],
   "source": [
    "import random \n",
    "\n",
    "batch_points = [PointStruct(id=i, vector=elem, payload= {}) for i, elem in enumerate(base_vectors)]\n",
    "\n",
    "\n",
    "# Upload the batch\n",
    "operation_info = qdrantClient.upsert(\n",
    "    collection_name=collection_name,\n",
    "    wait=True,\n",
    "    points=batch_points\n",
    ")\n",
    "print(operation_info)"
   ]
  },
  {
   "cell_type": "markdown",
   "metadata": {},
   "source": [
    "now look for the knn (k=100 bc its what the ground truth contains)"
   ]
  },
  {
   "cell_type": "code",
   "execution_count": 24,
   "metadata": {},
   "outputs": [
    {
     "name": "stdout",
     "output_type": "stream",
     "text": [
      "[  1.   3.  11. 110.  62.  22.   4.   0.  43.  21.  22.  18.   6.  28.\n",
      "  64.   9.  11.   1.   0.   0.   1.  40. 101.  21.  20.   2.   4.   2.\n",
      "   2.   9.  18.  35.   1.   1.   7.  25. 108. 116.  63.   2.   0.   0.\n",
      "  11.  74.  40. 101. 116.   3.  33.   1.   1.  11.  14.  18. 116. 116.\n",
      "  68.  12.   5.   4.   2.   2.   9. 102.  17.   3.  10.  18.   8.  15.\n",
      "  67.  63.  15.   0.  14. 116.  80.   0.   2.  22.  96.  37.  28.  88.\n",
      "  43.   1.   4.  18. 116.  51.   5.  11.  32.  14.   8.  23.  44.  17.\n",
      "  12.   9.   0.   0.  19.  37.  85.  18.  16. 104.  22.   6.   2.  26.\n",
      "  12.  58.  67.  82.  25.  12.   2.   2.  25.  18.   8.   2.  19.  42.\n",
      "  48.  11.]\n"
     ]
    }
   ],
   "source": [
    "for elem in query_vectors:\n",
    "    print(elem)\n",
    "    break"
   ]
  },
  {
   "cell_type": "code",
   "execution_count": 25,
   "metadata": {},
   "outputs": [
    {
     "data": {
      "text/plain": [
       "array([2176, 3752,  882, 4009, 2837,  190, 3615,  816, 1045, 1884,  224,\n",
       "       3013,  292, 1272, 5307, 4938, 1295,  492, 9211, 3625, 1254, 1292,\n",
       "       1625, 3553, 1156,  146,  107, 5231, 1995, 9541, 3543, 9758, 9806,\n",
       "       1064, 9701, 4064, 2456, 2763, 3237, 1317, 3530,  641, 1710, 8887,\n",
       "       4263, 1756,  598,  370, 2776,  121, 4058, 7245, 1895,  124, 8731,\n",
       "        696, 4320, 4527, 4050, 2648, 1682, 2154, 1689, 2436, 2005, 3210,\n",
       "       4002, 2774,  924, 6630, 3449, 9814, 3515, 5375,  287, 1038, 4096,\n",
       "       4094,  942, 4321,  123, 3814,   97, 4293,  420, 9734, 1916, 2791,\n",
       "        149, 6139, 9576, 6837, 2952, 3138, 2890, 3066, 2852,  348, 3043,\n",
       "       3687], dtype=int32)"
      ]
     },
     "execution_count": 25,
     "metadata": {},
     "output_type": "execute_result"
    }
   ],
   "source": [
    "knn_groundtruth[0]"
   ]
  },
  {
   "cell_type": "code",
   "execution_count": 26,
   "metadata": {},
   "outputs": [],
   "source": [
    "# for vec in query_vectors:\n",
    "#     search_result = qdrantClient.search(\n",
    "#         collection_name=\"test_collection\", query_vector=[0.0 for _ in range(vector_size)], limit=100\n",
    "#     )\n",
    "#     break\n",
    "\n",
    "for vec in query_vectors:\n",
    "    search_result = qdrantClient.search(\n",
    "        collection_name=\"test_collection\", query_vector=vec, limit=100\n",
    "    )\n",
    "    break\n",
    "\n",
    "\n"
   ]
  },
  {
   "cell_type": "code",
   "execution_count": 27,
   "metadata": {},
   "outputs": [
    {
     "data": {
      "text/plain": [
       "[ScoredPoint(id=2176, version=1, score=276.7815, payload={'attr1': False, 'attr2': True, 'attr3': False}, vector=None),\n",
       " ScoredPoint(id=3752, version=1, score=277.49594, payload={'attr1': False, 'attr2': True, 'attr3': True}, vector=None),\n",
       " ScoredPoint(id=882, version=1, score=282.31543, payload={'attr1': False, 'attr2': False, 'attr3': True}, vector=None),\n",
       " ScoredPoint(id=4009, version=1, score=283.6371, payload={'attr1': False, 'attr2': True, 'attr3': False}, vector=None),\n",
       " ScoredPoint(id=2837, version=1, score=284.5962, payload={'attr1': True, 'attr2': True, 'attr3': True}, vector=None),\n",
       " ScoredPoint(id=190, version=1, score=292.93686, payload={'attr1': True, 'attr2': False, 'attr3': True}, vector=None),\n",
       " ScoredPoint(id=3615, version=1, score=309.29276, payload={'attr1': False, 'attr2': True, 'attr3': False}, vector=None),\n",
       " ScoredPoint(id=816, version=1, score=311.03217, payload={'attr1': True, 'attr2': False, 'attr3': False}, vector=None),\n",
       " ScoredPoint(id=1045, version=1, score=311.3615, payload={'attr1': True, 'attr2': False, 'attr3': True}, vector=None),\n",
       " ScoredPoint(id=1884, version=1, score=313.07666, payload={'attr1': True, 'attr2': True, 'attr3': True}, vector=None),\n",
       " ScoredPoint(id=224, version=1, score=313.83752, payload={'attr1': True, 'attr2': True, 'attr3': False}, vector=None),\n",
       " ScoredPoint(id=3013, version=1, score=313.9554, payload={'attr1': False, 'attr2': False, 'attr3': True}, vector=None),\n",
       " ScoredPoint(id=292, version=1, score=314.4996, payload={'attr1': True, 'attr2': False, 'attr3': True}, vector=None),\n",
       " ScoredPoint(id=1272, version=1, score=316.00317, payload={'attr1': False, 'attr2': False, 'attr3': False}, vector=None),\n",
       " ScoredPoint(id=5307, version=1, score=317.87103, payload={'attr1': False, 'attr2': True, 'attr3': False}, vector=None),\n",
       " ScoredPoint(id=4938, version=1, score=318.69736, payload={'attr1': False, 'attr2': True, 'attr3': False}, vector=None),\n",
       " ScoredPoint(id=1295, version=1, score=319.16452, payload={'attr1': True, 'attr2': False, 'attr3': True}, vector=None),\n",
       " ScoredPoint(id=492, version=1, score=321.854, payload={'attr1': False, 'attr2': True, 'attr3': True}, vector=None),\n",
       " ScoredPoint(id=9211, version=1, score=323.17487, payload={'attr1': True, 'attr2': True, 'attr3': True}, vector=None),\n",
       " ScoredPoint(id=3625, version=1, score=323.78387, payload={'attr1': False, 'attr2': True, 'attr3': False}, vector=None),\n",
       " ScoredPoint(id=1254, version=1, score=323.91974, payload={'attr1': True, 'attr2': False, 'attr3': False}, vector=None),\n",
       " ScoredPoint(id=1292, version=1, score=324.0108, payload={'attr1': False, 'attr2': False, 'attr3': True}, vector=None),\n",
       " ScoredPoint(id=1625, version=1, score=324.30078, payload={'attr1': False, 'attr2': True, 'attr3': True}, vector=None),\n",
       " ScoredPoint(id=3553, version=1, score=324.8384, payload={'attr1': True, 'attr2': False, 'attr3': False}, vector=None),\n",
       " ScoredPoint(id=1156, version=1, score=325.2353, payload={'attr1': True, 'attr2': True, 'attr3': True}, vector=None),\n",
       " ScoredPoint(id=146, version=1, score=326.52872, payload={'attr1': True, 'attr2': False, 'attr3': False}, vector=None),\n",
       " ScoredPoint(id=107, version=1, score=326.80728, payload={'attr1': False, 'attr2': True, 'attr3': True}, vector=None),\n",
       " ScoredPoint(id=5231, version=1, score=327.17578, payload={'attr1': True, 'attr2': False, 'attr3': True}, vector=None),\n",
       " ScoredPoint(id=1995, version=1, score=327.78806, payload={'attr1': True, 'attr2': True, 'attr3': True}, vector=None),\n",
       " ScoredPoint(id=9541, version=1, score=327.9131, payload={'attr1': False, 'attr2': True, 'attr3': True}, vector=None),\n",
       " ScoredPoint(id=3543, version=1, score=328.0945, payload={'attr1': True, 'attr2': False, 'attr3': True}, vector=None),\n",
       " ScoredPoint(id=9758, version=1, score=328.15698, payload={'attr1': False, 'attr2': False, 'attr3': True}, vector=None),\n",
       " ScoredPoint(id=9806, version=1, score=328.32452, payload={'attr1': True, 'attr2': True, 'attr3': True}, vector=None),\n",
       " ScoredPoint(id=1064, version=1, score=328.61224, payload={'attr1': False, 'attr2': True, 'attr3': True}, vector=None),\n",
       " ScoredPoint(id=9701, version=1, score=329.41312, payload={'attr1': True, 'attr2': False, 'attr3': True}, vector=None),\n",
       " ScoredPoint(id=4064, version=1, score=329.4814, payload={'attr1': False, 'attr2': True, 'attr3': False}, vector=None),\n",
       " ScoredPoint(id=2456, version=1, score=329.68774, payload={'attr1': False, 'attr2': False, 'attr3': True}, vector=None),\n",
       " ScoredPoint(id=2763, version=1, score=329.94547, payload={'attr1': True, 'attr2': False, 'attr3': False}, vector=None),\n",
       " ScoredPoint(id=3237, version=1, score=330.00153, payload={'attr1': True, 'attr2': True, 'attr3': False}, vector=None),\n",
       " ScoredPoint(id=1317, version=1, score=330.1833, payload={'attr1': False, 'attr2': True, 'attr3': False}, vector=None),\n",
       " ScoredPoint(id=3530, version=1, score=330.83984, payload={'attr1': True, 'attr2': True, 'attr3': False}, vector=None),\n",
       " ScoredPoint(id=641, version=1, score=331.04077, payload={'attr1': False, 'attr2': True, 'attr3': True}, vector=None),\n",
       " ScoredPoint(id=1710, version=1, score=331.4966, payload={'attr1': False, 'attr2': False, 'attr3': True}, vector=None),\n",
       " ScoredPoint(id=8887, version=1, score=332.96396, payload={'attr1': True, 'attr2': True, 'attr3': True}, vector=None),\n",
       " ScoredPoint(id=4263, version=1, score=333.72592, payload={'attr1': False, 'attr2': True, 'attr3': True}, vector=None),\n",
       " ScoredPoint(id=1756, version=1, score=334.08832, payload={'attr1': False, 'attr2': True, 'attr3': True}, vector=None),\n",
       " ScoredPoint(id=598, version=1, score=334.3172, payload={'attr1': True, 'attr2': True, 'attr3': False}, vector=None),\n",
       " ScoredPoint(id=370, version=1, score=334.49814, payload={'attr1': True, 'attr2': True, 'attr3': True}, vector=None),\n",
       " ScoredPoint(id=2776, version=1, score=334.6446, payload={'attr1': True, 'attr2': True, 'attr3': False}, vector=None),\n",
       " ScoredPoint(id=121, version=1, score=334.9791, payload={'attr1': True, 'attr2': True, 'attr3': True}, vector=None),\n",
       " ScoredPoint(id=4058, version=1, score=335.4236, payload={'attr1': True, 'attr2': False, 'attr3': False}, vector=None),\n",
       " ScoredPoint(id=7245, version=1, score=335.58307, payload={'attr1': True, 'attr2': True, 'attr3': False}, vector=None),\n",
       " ScoredPoint(id=1895, version=1, score=336.49072, payload={'attr1': True, 'attr2': False, 'attr3': True}, vector=None),\n",
       " ScoredPoint(id=124, version=1, score=336.49664, payload={'attr1': False, 'attr2': True, 'attr3': True}, vector=None),\n",
       " ScoredPoint(id=8731, version=1, score=336.76254, payload={'attr1': True, 'attr2': True, 'attr3': False}, vector=None),\n",
       " ScoredPoint(id=696, version=1, score=337.1261, payload={'attr1': False, 'attr2': True, 'attr3': False}, vector=None),\n",
       " ScoredPoint(id=4320, version=1, score=337.4359, payload={'attr1': True, 'attr2': True, 'attr3': False}, vector=None),\n",
       " ScoredPoint(id=4527, version=1, score=337.49222, payload={'attr1': False, 'attr2': True, 'attr3': False}, vector=None),\n",
       " ScoredPoint(id=4050, version=1, score=337.9852, payload={'attr1': False, 'attr2': False, 'attr3': False}, vector=None),\n",
       " ScoredPoint(id=2648, version=1, score=338.27356, payload={'attr1': False, 'attr2': True, 'attr3': False}, vector=None),\n",
       " ScoredPoint(id=1682, version=1, score=338.39917, payload={'attr1': False, 'attr2': True, 'attr3': False}, vector=None),\n",
       " ScoredPoint(id=2154, version=1, score=338.67978, payload={'attr1': False, 'attr2': True, 'attr3': False}, vector=None),\n",
       " ScoredPoint(id=1689, version=1, score=338.96164, payload={'attr1': False, 'attr2': False, 'attr3': False}, vector=None),\n",
       " ScoredPoint(id=2436, version=1, score=339.00885, payload={'attr1': False, 'attr2': False, 'attr3': False}, vector=None),\n",
       " ScoredPoint(id=2005, version=1, score=339.2079, payload={'attr1': False, 'attr2': False, 'attr3': False}, vector=None),\n",
       " ScoredPoint(id=3210, version=1, score=339.54382, payload={'attr1': True, 'attr2': False, 'attr3': True}, vector=None),\n",
       " ScoredPoint(id=4002, version=1, score=339.82938, payload={'attr1': True, 'attr2': True, 'attr3': True}, vector=None),\n",
       " ScoredPoint(id=2774, version=1, score=340.0, payload={'attr1': False, 'attr2': True, 'attr3': False}, vector=None),\n",
       " ScoredPoint(id=924, version=1, score=340.12643, payload={'attr1': False, 'attr2': True, 'attr3': True}, vector=None),\n",
       " ScoredPoint(id=6630, version=1, score=340.60095, payload={'attr1': True, 'attr2': True, 'attr3': False}, vector=None),\n",
       " ScoredPoint(id=3449, version=1, score=340.68314, payload={'attr1': True, 'attr2': False, 'attr3': True}, vector=None),\n",
       " ScoredPoint(id=9814, version=1, score=340.7066, payload={'attr1': False, 'attr2': False, 'attr3': False}, vector=None),\n",
       " ScoredPoint(id=3515, version=1, score=340.82254, payload={'attr1': False, 'attr2': False, 'attr3': False}, vector=None),\n",
       " ScoredPoint(id=5375, version=1, score=340.86508, payload={'attr1': True, 'attr2': True, 'attr3': False}, vector=None),\n",
       " ScoredPoint(id=287, version=1, score=341.24625, payload={'attr1': True, 'attr2': False, 'attr3': True}, vector=None),\n",
       " ScoredPoint(id=1038, version=1, score=341.526, payload={'attr1': False, 'attr2': True, 'attr3': True}, vector=None),\n",
       " ScoredPoint(id=4096, version=1, score=342.23676, payload={'attr1': False, 'attr2': False, 'attr3': False}, vector=None),\n",
       " ScoredPoint(id=4094, version=1, score=342.49817, payload={'attr1': True, 'attr2': False, 'attr3': True}, vector=None),\n",
       " ScoredPoint(id=942, version=1, score=342.6062, payload={'attr1': True, 'attr2': False, 'attr3': True}, vector=None),\n",
       " ScoredPoint(id=4321, version=1, score=343.15158, payload={'attr1': False, 'attr2': True, 'attr3': True}, vector=None),\n",
       " ScoredPoint(id=123, version=1, score=343.37442, payload={'attr1': True, 'attr2': False, 'attr3': False}, vector=None),\n",
       " ScoredPoint(id=3814, version=1, score=343.42395, payload={'attr1': False, 'attr2': False, 'attr3': True}, vector=None),\n",
       " ScoredPoint(id=97, version=1, score=343.4647, payload={'attr1': False, 'attr2': True, 'attr3': True}, vector=None),\n",
       " ScoredPoint(id=4293, version=1, score=343.843, payload={'attr1': True, 'attr2': True, 'attr3': False}, vector=None),\n",
       " ScoredPoint(id=420, version=1, score=343.9971, payload={'attr1': False, 'attr2': True, 'attr3': False}, vector=None),\n",
       " ScoredPoint(id=9734, version=1, score=345.10144, payload={'attr1': False, 'attr2': False, 'attr3': True}, vector=None),\n",
       " ScoredPoint(id=1916, version=1, score=345.2738, payload={'attr1': False, 'attr2': True, 'attr3': False}, vector=None),\n",
       " ScoredPoint(id=2791, version=1, score=345.50543, payload={'attr1': False, 'attr2': False, 'attr3': False}, vector=None),\n",
       " ScoredPoint(id=149, version=1, score=345.72388, payload={'attr1': False, 'attr2': False, 'attr3': True}, vector=None),\n",
       " ScoredPoint(id=6139, version=1, score=345.7687, payload={'attr1': False, 'attr2': True, 'attr3': False}, vector=None),\n",
       " ScoredPoint(id=9576, version=1, score=346.039, payload={'attr1': False, 'attr2': False, 'attr3': False}, vector=None),\n",
       " ScoredPoint(id=6837, version=1, score=346.27878, payload={'attr1': False, 'attr2': False, 'attr3': True}, vector=None),\n",
       " ScoredPoint(id=2952, version=1, score=346.87317, payload={'attr1': True, 'attr2': True, 'attr3': False}, vector=None),\n",
       " ScoredPoint(id=3138, version=1, score=347.55, payload={'attr1': True, 'attr2': True, 'attr3': False}, vector=None),\n",
       " ScoredPoint(id=2890, version=1, score=348.69614, payload={'attr1': False, 'attr2': True, 'attr3': True}, vector=None),\n",
       " ScoredPoint(id=3066, version=1, score=348.75064, payload={'attr1': True, 'attr2': True, 'attr3': True}, vector=None),\n",
       " ScoredPoint(id=2852, version=1, score=348.95987, payload={'attr1': True, 'attr2': True, 'attr3': True}, vector=None),\n",
       " ScoredPoint(id=348, version=1, score=349.04727, payload={'attr1': False, 'attr2': True, 'attr3': True}, vector=None),\n",
       " ScoredPoint(id=3043, version=1, score=349.09885, payload={'attr1': True, 'attr2': False, 'attr3': False}, vector=None),\n",
       " ScoredPoint(id=3687, version=1, score=349.23346, payload={'attr1': True, 'attr2': True, 'attr3': True}, vector=None)]"
      ]
     },
     "execution_count": 27,
     "metadata": {},
     "output_type": "execute_result"
    }
   ],
   "source": [
    "search_result"
   ]
  },
  {
   "cell_type": "code",
   "execution_count": 15,
   "metadata": {},
   "outputs": [
    {
     "data": {
      "text/plain": [
       "array([  97,  107,  121,  123,  124,  146,  149,  190,  224,  287,  292,\n",
       "        348,  370,  420,  492,  598,  641,  696,  816,  882,  924,  942,\n",
       "       1038, 1045, 1064, 1156, 1254, 1272, 1292, 1295, 1317, 1625, 1682,\n",
       "       1689, 1710, 1756, 1884, 1895, 1916, 1995, 2005, 2154, 2176, 2436,\n",
       "       2456, 2648, 2763, 2774, 2776, 2791, 2837, 2852, 2890, 2952, 3013,\n",
       "       3043, 3066, 3138, 3210, 3237, 3449, 3515, 3530, 3543, 3553, 3615,\n",
       "       3625, 3687, 3752, 3814, 4002, 4009, 4050, 4058, 4064, 4094, 4096,\n",
       "       4263, 4293, 4320, 4321, 4527, 4938, 5231, 5307, 5375, 6139, 6630,\n",
       "       6837, 7245, 8731, 8887, 9211, 9541, 9576, 9701, 9734, 9758, 9806,\n",
       "       9814], dtype=int32)"
      ]
     },
     "execution_count": 15,
     "metadata": {},
     "output_type": "execute_result"
    }
   ],
   "source": [
    "import numpy as np\n",
    "\n",
    "res = [elem.id for elem in search_result]\n",
    "res = np.array(res, dtype=np.int32)\n",
    "\n",
    "intersection = np.intersect1d(knn_groundtruth[0], res)\n",
    "intersection"
   ]
  },
  {
   "cell_type": "code",
   "execution_count": 16,
   "metadata": {},
   "outputs": [],
   "source": [
    "knn_indices = utils.top_k_neighbors(query_vectors, base_vectors, k=100)"
   ]
  },
  {
   "cell_type": "code",
   "execution_count": 17,
   "metadata": {},
   "outputs": [
    {
     "data": {
      "text/plain": [
       "100"
      ]
     },
     "execution_count": 17,
     "metadata": {},
     "output_type": "execute_result"
    }
   ],
   "source": [
    "intersection = np.intersect1d(knn_indices[0], res)\n",
    "len(intersection)"
   ]
  },
  {
   "cell_type": "markdown",
   "metadata": {},
   "source": [
    "Add random attributes to the dataset"
   ]
  },
  {
   "cell_type": "code",
   "execution_count": 28,
   "metadata": {},
   "outputs": [
    {
     "data": {
      "text/plain": [
       "array([[ 1.,  3., 11., ..., 42., 48., 11.],\n",
       "       [40., 25., 11., ...,  3., 19., 13.],\n",
       "       [28.,  4.,  3., ...,  2., 54., 47.],\n",
       "       ...,\n",
       "       [14.,  8.,  0., ..., 32., 14., 15.],\n",
       "       [11., 48., 10., ...,  0.,  0.,  0.],\n",
       "       [ 4., 10.,  5., ..., 43.,  0.,  8.]], dtype=float32)"
      ]
     },
     "execution_count": 28,
     "metadata": {},
     "output_type": "execute_result"
    }
   ],
   "source": [
    "query_vectors"
   ]
  },
  {
   "cell_type": "code",
   "execution_count": 18,
   "metadata": {},
   "outputs": [
    {
     "data": {
      "text/plain": [
       "array([[ 0., 16., 35., ..., 25., 23.,  1.],\n",
       "       [14., 35., 19., ..., 11., 21., 33.],\n",
       "       [ 0.,  1.,  5., ...,  4., 23., 10.],\n",
       "       ...,\n",
       "       [48.,  1.,  0., ..., 22., 62., 18.],\n",
       "       [ 0.,  0.,  0., ...,  3.,  3., 11.],\n",
       "       [14.,  2.,  0., ...,  0.,  0.,  7.]], dtype=float32)"
      ]
     },
     "execution_count": 18,
     "metadata": {},
     "output_type": "execute_result"
    }
   ],
   "source": [
    "base_vectors"
   ]
  },
  {
   "cell_type": "markdown",
   "metadata": {},
   "source": [
    "### Attribute filtering "
   ]
  },
  {
   "cell_type": "code",
   "execution_count": 30,
   "metadata": {},
   "outputs": [
    {
     "data": {
      "text/plain": [
       "array([[ 0., 16., 35., ..., 25., 23.,  1.],\n",
       "       [14., 35., 19., ..., 11., 21., 33.],\n",
       "       [ 0.,  1.,  5., ...,  4., 23., 10.],\n",
       "       ...,\n",
       "       [48.,  1.,  0., ..., 22., 62., 18.],\n",
       "       [ 0.,  0.,  0., ...,  3.,  3., 11.],\n",
       "       [14.,  2.,  0., ...,  0.,  0.,  7.]], dtype=float32)"
      ]
     },
     "execution_count": 30,
     "metadata": {},
     "output_type": "execute_result"
    }
   ],
   "source": [
    "import pandas as pd\n",
    "base_vectors\n"
   ]
  },
  {
   "cell_type": "code",
   "execution_count": 41,
   "metadata": {},
   "outputs": [],
   "source": [
    "base_vectors_with_attributes = pd.DataFrame({'vector': base_vectors.tolist()})\n",
    "num_rows = len(base_vectors_with_attributes)\n",
    "base_vectors_with_attributes['attr1'] = [random.choice([True, False]) for _ in range(num_rows)]\n",
    "base_vectors_with_attributes['attr2'] = [random.choice([True, False]) for _ in range(num_rows)]\n",
    "base_vectors_with_attributes['attr3'] = [random.choice([True, False]) for _ in range(num_rows)]\n",
    "\n",
    "\n"
   ]
  },
  {
   "cell_type": "code",
   "execution_count": 50,
   "metadata": {},
   "outputs": [
    {
     "name": "stdout",
     "output_type": "stream",
     "text": [
      "False\n"
     ]
    }
   ],
   "source": [
    "for i,row in base_vectors_with_attributes.iterrows():\n",
    "    # print(i)\n",
    "    print(row[\"attr1\"])\n",
    "    break"
   ]
  },
  {
   "cell_type": "code",
   "execution_count": 51,
   "metadata": {},
   "outputs": [],
   "source": [
    "batch_points = [PointStruct(id=i, vector=elem[\"vector\"], payload= {\"attr1\": elem[\"attr1\"], \"attr2\": elem[\"attr2\"], \"attr3\": elem[\"attr3\"]}) for i, elem in base_vectors_with_attributes.iterrows()]\n"
   ]
  }
 ],
 "metadata": {
  "kernelspec": {
   "display_name": "Python 3",
   "language": "python",
   "name": "python3"
  },
  "language_info": {
   "codemirror_mode": {
    "name": "ipython",
    "version": 3
   },
   "file_extension": ".py",
   "mimetype": "text/x-python",
   "name": "python",
   "nbconvert_exporter": "python",
   "pygments_lexer": "ipython3",
   "version": "3.9.6"
  }
 },
 "nbformat": 4,
 "nbformat_minor": 2
}
