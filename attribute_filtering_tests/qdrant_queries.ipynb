{
 "cells": [
  {
   "cell_type": "markdown",
   "metadata": {},
   "source": [
    "Connect client\n"
   ]
  },
  {
   "cell_type": "code",
   "execution_count": 12,
   "metadata": {},
   "outputs": [],
   "source": [
    "from qdrant_client import QdrantClient\n",
    "from qdrant_client.http import models\n",
    "from qdrant_client.http.models import Distance, VectorParams\n",
    "from qdrant_client.http.models import PointStruct\n",
    "import numpy as np\n",
    "\n",
    "\n",
    "from fastembed.embedding import DefaultEmbedding\n",
    "import utils\n",
    "# import numpy as np\n",
    "# CONNECT TO CLIENT (FIRST RUN CONTAINER AT PORT 6333)\n",
    "qdrantClient = QdrantClient(host='localhost', port=6333)"
   ]
  },
  {
   "cell_type": "code",
   "execution_count": 2,
   "metadata": {},
   "outputs": [
    {
     "name": "stdout",
     "output_type": "stream",
     "text": [
      "Loading file: siftsmall_base.fvecs\n",
      "    The dimension of the vectors in the file is: 128\n",
      "    The final shape of the loaded dataset siftsmall_base.fvecs is (10000, 128).\n",
      "Loading file: siftsmall_query.fvecs\n",
      "    The dimension of the vectors in the file is: 128\n",
      "    The final shape of the loaded dataset siftsmall_query.fvecs is (100, 128).\n",
      " Loading file: siftsmall_groundtruth.ivecs\n",
      "    The dimension of the vectors in the file is: 100\n",
      "    The final shape of the loaded dataset is (100, 100).\n"
     ]
    }
   ],
   "source": [
    "base_vectors = utils.read_fvecs(\"../../dataset/siftsmall/siftsmall_base.fvecs\")\n",
    "query_vectors = utils.read_fvecs(\"../../dataset/siftsmall/siftsmall_query.fvecs\")\n",
    "knn_groundtruth = utils.read_ivecs(\"../../dataset/siftsmall/siftsmall_groundtruth.ivecs\")"
   ]
  },
  {
   "cell_type": "code",
   "execution_count": 3,
   "metadata": {},
   "outputs": [
    {
     "data": {
      "text/plain": [
       "True"
      ]
     },
     "execution_count": 3,
     "metadata": {},
     "output_type": "execute_result"
    }
   ],
   "source": [
    "vector_size = 128\n",
    "collection_name = \"test_collection\"\n",
    "\n",
    "qdrantClient.delete_collection(collection_name=collection_name)\n",
    "\n",
    "qdrantClient.recreate_collection(\n",
    "    collection_name=collection_name,\n",
    "    vectors_config=VectorParams(size=vector_size, distance=Distance.EUCLID),\n",
    ")\n"
   ]
  },
  {
   "cell_type": "markdown",
   "metadata": {},
   "source": [
    "Fill database with base vectors (10K now)"
   ]
  },
  {
   "cell_type": "code",
   "execution_count": 4,
   "metadata": {},
   "outputs": [
    {
     "name": "stdout",
     "output_type": "stream",
     "text": [
      "operation_id=0 status=<UpdateStatus.COMPLETED: 'completed'>\n"
     ]
    }
   ],
   "source": [
    "batch_points = [PointStruct(id=i, vector=elem) for i, elem in enumerate(base_vectors)]\n",
    "\n",
    "\n",
    "# Upload the batch\n",
    "operation_info = qdrantClient.upsert(\n",
    "    collection_name=collection_name,\n",
    "    wait=True,\n",
    "    points=batch_points\n",
    ")\n",
    "print(operation_info)"
   ]
  },
  {
   "cell_type": "markdown",
   "metadata": {},
   "source": [
    "now look for the knn (k=100 bc its what the ground truth contains)"
   ]
  },
  {
   "cell_type": "code",
   "execution_count": 5,
   "metadata": {},
   "outputs": [
    {
     "name": "stdout",
     "output_type": "stream",
     "text": [
      "[  1.   3.  11. 110.  62.  22.   4.   0.  43.  21.  22.  18.   6.  28.\n",
      "  64.   9.  11.   1.   0.   0.   1.  40. 101.  21.  20.   2.   4.   2.\n",
      "   2.   9.  18.  35.   1.   1.   7.  25. 108. 116.  63.   2.   0.   0.\n",
      "  11.  74.  40. 101. 116.   3.  33.   1.   1.  11.  14.  18. 116. 116.\n",
      "  68.  12.   5.   4.   2.   2.   9. 102.  17.   3.  10.  18.   8.  15.\n",
      "  67.  63.  15.   0.  14. 116.  80.   0.   2.  22.  96.  37.  28.  88.\n",
      "  43.   1.   4.  18. 116.  51.   5.  11.  32.  14.   8.  23.  44.  17.\n",
      "  12.   9.   0.   0.  19.  37.  85.  18.  16. 104.  22.   6.   2.  26.\n",
      "  12.  58.  67.  82.  25.  12.   2.   2.  25.  18.   8.   2.  19.  42.\n",
      "  48.  11.]\n"
     ]
    }
   ],
   "source": [
    "for elem in query_vectors:\n",
    "    print(elem)\n",
    "    break"
   ]
  },
  {
   "cell_type": "code",
   "execution_count": 6,
   "metadata": {},
   "outputs": [
    {
     "data": {
      "text/plain": [
       "array([2176, 3752,  882, 4009, 2837,  190, 3615,  816, 1045, 1884,  224,\n",
       "       3013,  292, 1272, 5307, 4938, 1295,  492, 9211, 3625, 1254, 1292,\n",
       "       1625, 3553, 1156,  146,  107, 5231, 1995, 9541, 3543, 9758, 9806,\n",
       "       1064, 9701, 4064, 2456, 2763, 3237, 1317, 3530,  641, 1710, 8887,\n",
       "       4263, 1756,  598,  370, 2776,  121, 4058, 7245, 1895,  124, 8731,\n",
       "        696, 4320, 4527, 4050, 2648, 1682, 2154, 1689, 2436, 2005, 3210,\n",
       "       4002, 2774,  924, 6630, 3449, 9814, 3515, 5375,  287, 1038, 4096,\n",
       "       4094,  942, 4321,  123, 3814,   97, 4293,  420, 9734, 1916, 2791,\n",
       "        149, 6139, 9576, 6837, 2952, 3138, 2890, 3066, 2852,  348, 3043,\n",
       "       3687], dtype=int32)"
      ]
     },
     "execution_count": 6,
     "metadata": {},
     "output_type": "execute_result"
    }
   ],
   "source": [
    "knn_groundtruth[0]"
   ]
  },
  {
   "cell_type": "code",
   "execution_count": 7,
   "metadata": {},
   "outputs": [],
   "source": [
    "# for vec in query_vectors:\n",
    "#     search_result = qdrantClient.search(\n",
    "#         collection_name=\"test_collection\", query_vector=[0.0 for _ in range(vector_size)], limit=100\n",
    "#     )\n",
    "#     break\n",
    "\n",
    "for vec in query_vectors:\n",
    "    search_result = qdrantClient.search(\n",
    "        collection_name=\"test_collection\", query_vector=vec, limit=100\n",
    "    )\n",
    "    break\n",
    "\n",
    "\n"
   ]
  },
  {
   "cell_type": "code",
   "execution_count": 15,
   "metadata": {},
   "outputs": [
    {
     "data": {
      "text/plain": [
       "array([  97,  107,  121,  123,  124,  146,  149,  190,  224,  287,  292,\n",
       "        348,  370,  420,  492,  598,  641,  696,  816,  882,  924,  942,\n",
       "       1038, 1045, 1064, 1156, 1254, 1272, 1292, 1295, 1317, 1625, 1682,\n",
       "       1689, 1710, 1756, 1884, 1895, 1916, 1995, 2005, 2154, 2176, 2436,\n",
       "       2456, 2648, 2763, 2774, 2776, 2791, 2837, 2852, 2890, 2952, 3013,\n",
       "       3043, 3066, 3138, 3210, 3237, 3449, 3515, 3530, 3543, 3553, 3615,\n",
       "       3625, 3687, 3752, 3814, 4002, 4009, 4050, 4058, 4064, 4094, 4096,\n",
       "       4263, 4293, 4320, 4321, 4527, 4938, 5231, 5307, 5375, 6139, 6630,\n",
       "       6837, 7245, 8731, 8887, 9211, 9541, 9576, 9701, 9734, 9758, 9806,\n",
       "       9814], dtype=int32)"
      ]
     },
     "execution_count": 15,
     "metadata": {},
     "output_type": "execute_result"
    }
   ],
   "source": [
    "import numpy as np\n",
    "\n",
    "res = [elem.id for elem in search_result]\n",
    "res = np.array(res, dtype=np.int32)\n",
    "\n",
    "intersection = np.intersect1d(knn_groundtruth[0], res)\n",
    "intersection"
   ]
  },
  {
   "cell_type": "code",
   "execution_count": 16,
   "metadata": {},
   "outputs": [],
   "source": [
    "knn_indices = utils.top_k_neighbors(query_vectors, base_vectors, k=100)"
   ]
  },
  {
   "cell_type": "code",
   "execution_count": 17,
   "metadata": {},
   "outputs": [
    {
     "data": {
      "text/plain": [
       "100"
      ]
     },
     "execution_count": 17,
     "metadata": {},
     "output_type": "execute_result"
    }
   ],
   "source": [
    "intersection = np.intersect1d(knn_indices[0], res)\n",
    "len(intersection)"
   ]
  }
 ],
 "metadata": {
  "kernelspec": {
   "display_name": "Python 3",
   "language": "python",
   "name": "python3"
  },
  "language_info": {
   "codemirror_mode": {
    "name": "ipython",
    "version": 3
   },
   "file_extension": ".py",
   "mimetype": "text/x-python",
   "name": "python",
   "nbconvert_exporter": "python",
   "pygments_lexer": "ipython3",
   "version": "3.9.6"
  }
 },
 "nbformat": 4,
 "nbformat_minor": 2
}
