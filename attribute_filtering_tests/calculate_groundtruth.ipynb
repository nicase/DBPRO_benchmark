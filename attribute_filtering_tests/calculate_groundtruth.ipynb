{
 "cells": [
  {
   "cell_type": "code",
   "execution_count": 1,
   "metadata": {},
   "outputs": [],
   "source": [
    "from qdrant_client import QdrantClient\n",
    "from qdrant_client.http import models\n",
    "from qdrant_client.http.models import Distance, VectorParams\n",
    "from qdrant_client.http.models import PointStruct\n",
    "\n",
    "from fastembed.embedding import DefaultEmbedding\n",
    "import utils\n",
    "# import numpy as np\n",
    "# CONNECT TO CLIENT (FIRST RUN CONTAINER AT PORT 6333)\n",
    "qdrantClient = QdrantClient(host='localhost', port=6333)"
   ]
  },
  {
   "cell_type": "code",
   "execution_count": 2,
   "metadata": {},
   "outputs": [
    {
     "name": "stdout",
     "output_type": "stream",
     "text": [
      "Loading file: siftsmall_base.fvecs\n",
      "    The dimension of the vectors in the file is: 128\n",
      "    The final shape of the loaded dataset siftsmall_base.fvecs is (10000, 128).\n",
      "Loading file: siftsmall_query.fvecs\n",
      "    The dimension of the vectors in the file is: 128\n",
      "    The final shape of the loaded dataset siftsmall_query.fvecs is (100, 128).\n",
      " Loading file: siftsmall_groundtruth.ivecs\n",
      "    The dimension of the vectors in the file is: 100\n",
      "    The final shape of the loaded dataset is (100, 100).\n"
     ]
    }
   ],
   "source": [
    "base_vectors = utils.read_fvecs(\"../../dataset/siftsmall/siftsmall_base.fvecs\")\n",
    "query_vectors = utils.read_fvecs(\"../../dataset/siftsmall/siftsmall_query.fvecs\")\n",
    "knn_groundtruth = utils.read_ivecs(\"../../dataset/siftsmall/siftsmall_groundtruth.ivecs\")"
   ]
  },
  {
   "cell_type": "code",
   "execution_count": null,
   "metadata": {},
   "outputs": [],
   "source": [
    "import numpy as np\n",
    "\n",
    "\n",
    "def euclidean_distance(query_vector, base_vectors):\n",
    "    # Calculate Euclidean distances between query_vector and all base_vectors\n",
    "    distances = np.sqrt(np.sum((base_vectors - query_vector) ** 2, axis=1))\n",
    "    return distances\n",
    "\n",
    "def top_k_neighbors(query_vectors, base_vectors, k=100):\n",
    "    top_k_indices = []\n",
    "    for query_vector in query_vectors:\n",
    "        # Calculate Euclidean distances for each query vector\n",
    "        distances = euclidean_distance(query_vector, base_vectors)\n",
    "        \n",
    "        # Find the indices of the k smallest distances\n",
    "        k_indices = np.argsort(distances)[:k]\n",
    "        top_k_indices.append(k_indices)\n",
    "    \n",
    "    return np.array(top_k_indices)\n",
    "\n",
    "# Assuming you want to find top 100 neighbors for the first 100 query vectors\n",
    "knn_indices = top_k_neighbors(query_vectors, base_vectors, k=100)\n"
   ]
  }
 ],
 "metadata": {
  "kernelspec": {
   "display_name": "Python 3",
   "language": "python",
   "name": "python3"
  },
  "language_info": {
   "codemirror_mode": {
    "name": "ipython",
    "version": 3
   },
   "file_extension": ".py",
   "mimetype": "text/x-python",
   "name": "python",
   "nbconvert_exporter": "python",
   "pygments_lexer": "ipython3",
   "version": "3.9.6"
  }
 },
 "nbformat": 4,
 "nbformat_minor": 2
}
