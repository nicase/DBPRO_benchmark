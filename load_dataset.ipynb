{
 "cells": [
  {
   "cell_type": "code",
   "execution_count": 1,
   "metadata": {},
   "outputs": [],
   "source": [
    "import numpy as np"
   ]
  },
  {
   "cell_type": "code",
   "execution_count": 57,
   "metadata": {},
   "outputs": [],
   "source": [
    "def read_fvecs(file_path):\n",
    "    # Source: http://corpus-texmex.irisa.fr/\n",
    "    # in fvecs files, for each vector we have:\n",
    "    #   1. 4 bytes int (32 bits) that represents the dimension of the vector\n",
    "    #   2. n elements of 4 bytes floats (32 bits) * dimension. \n",
    "    # Then, each vector will have 1+dimension elements, but the first element will be \n",
    "    # the same for all of them and does not represent info about that record.\n",
    "\n",
    "    print(f'Loading file: {file_path.split(\"/\")[-1]}')\n",
    "\n",
    "    dimension = np.fromfile(file_path, dtype=np.int32, count=1)[0]\n",
    "    print(f'    The dimension of the vectors in the file is: {dimension}')\n",
    "\n",
    "    # Bulk contains the raw data as 4 byte floats\n",
    "    bulk = np.fromfile(file_path, dtype=np.float32)\n",
    "\n",
    "    # Reshape it into dimension+1 groups\n",
    "    reshaped_bulk = bulk.reshape(-1, dimension+1)\n",
    "\n",
    "    # For each group, drop the first element (it is dimension which we already extracted)\n",
    "    final_dataframe = reshaped_bulk[:, 1:]\n",
    "    print(f'    The final shape of the loaded dataset {file_path.split(\"/\")[-1]} is {final_dataframe.shape}.')\n",
    "    return final_dataframe\n",
    "\n",
    "\n",
    "\n",
    "def read_ivecs(file_path):\n",
    "    # Source: http://corpus-texmex.irisa.fr/\n",
    "    # (From source):\n",
    "    # The groundtruth files contain, for each query, the identifiers (vector number, starting at 0) \n",
    "    # of its k nearest neighbors, ordered by increasing (squared euclidean) distance. \n",
    "    #   • k=100 for the dataset ANN_SIFT10K, ANN_SIFT1M and ANN_GIST1M\n",
    "    #   • k=1000 for the big ANN_SIFT1B dataset\n",
    "    # Therefore, the first element of each integer vector is the nearest neighbor identifier \n",
    "    # associated with the query. \n",
    "\n",
    "    # ivecs files are identical to fvecs files, but contain 4 byte int values instead. Check read_fvecs function to know how it works\n",
    "    # only difference is that since its all ints, we don't need to load the first element differently\n",
    "    print(f' Loading file: {file_path.split(\"/\")[-1]}')\n",
    "    bulk = np.fromfile(file_path, dtype=np.int32)\n",
    "    dimension = bulk[0]\n",
    "    print(f'    The dimension of the vectors in the file is: {dimension}')\n",
    "\n",
    "    reshaped_bulk = bulk.reshape(-1, dimension+1)\n",
    "\n",
    "    final_dataframe = reshaped_bulk[:, 1:]\n",
    "    print(f'    The final shape of the loaded dataset is {final_dataframe.shape}.')\n",
    "    return final_dataframe\n"
   ]
  },
  {
   "cell_type": "code",
   "execution_count": 58,
   "metadata": {},
   "outputs": [
    {
     "name": "stdout",
     "output_type": "stream",
     "text": [
      "Loading file: siftsmall_query.fvecs\n",
      "    The dimension of the vectors in the file is: 128\n",
      "    The final shape of the loaded dataset siftsmall_query.fvecs is (100, 128).\n",
      " Loading file: siftsmall_groundtruth.ivecs\n",
      "    The dimension of the vectors in the file is: 100\n",
      "    The final shape of the loaded dataset is (100, 100).\n"
     ]
    },
    {
     "data": {
      "text/plain": [
       "array([[2176, 3752,  882, ...,  348, 3043, 3687],\n",
       "       [2781, 9574, 2492, ..., 3849, 2905, 4102],\n",
       "       [2707, 9938, 2698, ..., 1251, 8564, 8173],\n",
       "       ...,\n",
       "       [8825, 9081, 6142, ..., 8178, 5887, 4565],\n",
       "       [5460, 5439, 5810, ..., 5199, 7483, 5232],\n",
       "       [8082, 8782, 4767, ...,   11, 2482, 3631]], dtype=int32)"
      ]
     },
     "execution_count": 58,
     "metadata": {},
     "output_type": "execute_result"
    }
   ],
   "source": [
    "# Change this with your path to the fvecs and ivecs files\n",
    "read_fvecs(\"dataset/siftsmall/siftsmall_query.fvecs\")\n",
    "read_ivecs(\"dataset/siftsmall/siftsmall_groundtruth.ivecs\")\n"
   ]
  }
 ],
 "metadata": {
  "kernelspec": {
   "display_name": "Python 3",
   "language": "python",
   "name": "python3"
  },
  "language_info": {
   "codemirror_mode": {
    "name": "ipython",
    "version": 3
   },
   "file_extension": ".py",
   "mimetype": "text/x-python",
   "name": "python",
   "nbconvert_exporter": "python",
   "pygments_lexer": "ipython3",
   "version": "3.9.6"
  }
 },
 "nbformat": 4,
 "nbformat_minor": 2
}
